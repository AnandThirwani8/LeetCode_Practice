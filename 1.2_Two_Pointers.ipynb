{
 "cells": [
  {
   "cell_type": "markdown",
   "id": "9bfc3f1d-0758-4b6e-bb8a-515d581fb720",
   "metadata": {},
   "source": [
    "# Roadmap"
   ]
  },
  {
   "cell_type": "markdown",
   "id": "dbf5072a-d7ac-4e7c-87c6-576f0472ba8d",
   "metadata": {},
   "source": [
    "https://neetcode.io/roadmap"
   ]
  },
  {
   "cell_type": "markdown",
   "id": "83141a0c-9daa-4051-9efa-6ea5b7dc72bb",
   "metadata": {},
   "source": [
    "# Two Pointers"
   ]
  },
  {
   "cell_type": "markdown",
   "id": "b735919b-65db-4bd0-b363-350dceac86ad",
   "metadata": {
    "jp-MarkdownHeadingCollapsed": true,
    "tags": []
   },
   "source": [
    "### Problem 1"
   ]
  },
  {
   "cell_type": "markdown",
   "id": "0ec03adc-1f51-48d4-bf79-15134c73fa0c",
   "metadata": {},
   "source": [
    "- Problem : https://leetcode.com/problems/valid-palindrome/submissions/1171381886/\n",
    "- Solution : https://youtu.be/jJXJ16kPFWg"
   ]
  },
  {
   "cell_type": "markdown",
   "id": "ca88d3a4-64e8-4f52-8f11-37666982bbad",
   "metadata": {},
   "source": [
    "A phrase is a palindrome if, after converting all uppercase letters into lowercase letters and removing all non-alphanumeric characters, it reads the same forward and backward. Alphanumeric characters include letters and numbers.\n",
    "\n",
    "Given a string s, return true if it is a palindrome, or false otherwise.\n",
    "\n",
    "\n",
    "Example 1:\n",
    "\n",
    "    Input: s = \"A man, a plan, a canal: Panama\"\n",
    "    Output: true\n",
    "    Explanation: \"amanaplanacanalpanama\" is a palindrome.\n",
    "\n",
    "Example 2:\n",
    "\n",
    "    Input: s = \"race a car\"\n",
    "    Output: false\n",
    "    Explanation: \"raceacar\" is not a palindrome."
   ]
  },
  {
   "cell_type": "code",
   "execution_count": 38,
   "id": "30625486-08d5-45dc-9822-6534dd8f4bfb",
   "metadata": {},
   "outputs": [
    {
     "data": {
      "text/plain": [
       "'amanaplanacanalpanama'"
      ]
     },
     "execution_count": 38,
     "metadata": {},
     "output_type": "execute_result"
    }
   ],
   "source": [
    "s = \"A man, a plan, a canal: Panama\"\n",
    "s2 = ''.join([x.lower() for x in list(s) if (x.isalpha() or x.isnumeric())])\n",
    "s2"
   ]
  },
  {
   "cell_type": "code",
   "execution_count": 16,
   "id": "f4872189-1008-4240-bdd8-a11e977a44ba",
   "metadata": {},
   "outputs": [
    {
     "data": {
      "text/plain": [
       "'manaplanacanalpanam'"
      ]
     },
     "execution_count": 16,
     "metadata": {},
     "output_type": "execute_result"
    }
   ],
   "source": [
    "s2[1:-1]"
   ]
  },
  {
   "cell_type": "code",
   "execution_count": 43,
   "id": "299ee4a2-ffda-46c8-98e7-ecd89c8f8f97",
   "metadata": {},
   "outputs": [
    {
     "data": {
      "text/plain": [
       "True"
      ]
     },
     "execution_count": 43,
     "metadata": {},
     "output_type": "execute_result"
    }
   ],
   "source": [
    "# O(n) solution but slow\n",
    "def isPalindrome(s):\n",
    "    \n",
    "    # This requires extra memmoory, Space : O(n)\n",
    "    s2 = ''.join([x.lower() for x in list(s) if (x.isalpha() or x.isnumeric())])\n",
    "\n",
    "    for i in range(len(s2)):\n",
    "        while len(s2) > 1:\n",
    "            if s2[0] == s2[-1]:\n",
    "                s2 = s2[1:-1]\n",
    "                # print(s2)\n",
    "            else:\n",
    "                return False\n",
    "    return True    \n",
    "\n",
    "s = \"A man, a plan, a canal: Panama\"\n",
    "isPalindrome(s)"
   ]
  },
  {
   "cell_type": "code",
   "execution_count": 44,
   "id": "639643d0-a8a5-4668-bc7d-c8b140e64018",
   "metadata": {},
   "outputs": [
    {
     "data": {
      "text/plain": [
       "False"
      ]
     },
     "execution_count": 44,
     "metadata": {},
     "output_type": "execute_result"
    }
   ],
   "source": [
    "s = \"race a car\"\n",
    "isPalindrome(s)"
   ]
  },
  {
   "cell_type": "code",
   "execution_count": 45,
   "id": "32433f5d-879b-4887-97b8-1af25d4a8f80",
   "metadata": {},
   "outputs": [
    {
     "data": {
      "text/plain": [
       "True"
      ]
     },
     "execution_count": 45,
     "metadata": {},
     "output_type": "execute_result"
    }
   ],
   "source": [
    "s = \" \"\n",
    "isPalindrome(s)"
   ]
  },
  {
   "cell_type": "code",
   "execution_count": 46,
   "id": "1bd59851-c31b-46b0-83b1-9c0a79f764c6",
   "metadata": {},
   "outputs": [
    {
     "data": {
      "text/plain": [
       "False"
      ]
     },
     "execution_count": 46,
     "metadata": {},
     "output_type": "execute_result"
    }
   ],
   "source": [
    "s = \"0P\"\n",
    "isPalindrome(s)"
   ]
  },
  {
   "cell_type": "markdown",
   "id": "720cb364-6a70-4316-9fb1-416090b43168",
   "metadata": {},
   "source": [
    "Optimal Solution 1"
   ]
  },
  {
   "cell_type": "markdown",
   "id": "e64b5bca-a764-4214-8df7-cb2087f94df9",
   "metadata": {},
   "source": [
    "Solve this problem without using extra meomory"
   ]
  },
  {
   "cell_type": "code",
   "execution_count": 61,
   "id": "bba5aeeb-b990-46ce-b9ca-6c91b5ee6fd9",
   "metadata": {},
   "outputs": [
    {
     "name": "stdout",
     "output_type": "stream",
     "text": [
      "A a\n",
      "m m\n",
      "a a\n",
      "n n\n",
      "a a\n",
      "p P\n",
      "l l\n",
      "a a\n",
      "n n\n",
      "a a\n"
     ]
    },
    {
     "data": {
      "text/plain": [
       "True"
      ]
     },
     "execution_count": 61,
     "metadata": {},
     "output_type": "execute_result"
    }
   ],
   "source": [
    "def isPalindrome(s):\n",
    "    l = 0         # left pointer\n",
    "    r = len(s)-1  # right pointer\n",
    "    while l < r:\n",
    "        if s[l].isalnum() is False:\n",
    "            l+=1\n",
    "        elif s[r].isalnum() is False:\n",
    "            r-=1\n",
    "        elif s[l].lower() == s[r].lower():\n",
    "            print(s[l], s[r])\n",
    "            l+=1\n",
    "            r-=1\n",
    "        else:\n",
    "            return False\n",
    "\n",
    "    return True \n",
    "\n",
    "s = \"A man, a plan, a canal: Panama\"\n",
    "isPalindrome(s)"
   ]
  },
  {
   "cell_type": "code",
   "execution_count": 62,
   "id": "6a5672e6-4ca8-4001-80da-579d2c844ef5",
   "metadata": {},
   "outputs": [
    {
     "name": "stdout",
     "output_type": "stream",
     "text": [
      "r r\n",
      "a a\n",
      "c c\n"
     ]
    },
    {
     "data": {
      "text/plain": [
       "False"
      ]
     },
     "execution_count": 62,
     "metadata": {},
     "output_type": "execute_result"
    }
   ],
   "source": [
    "s = \"race a car\"\n",
    "isPalindrome(s)"
   ]
  },
  {
   "cell_type": "code",
   "execution_count": 63,
   "id": "45caa462-8146-4d26-9a0a-8cf85c97e70b",
   "metadata": {},
   "outputs": [
    {
     "data": {
      "text/plain": [
       "True"
      ]
     },
     "execution_count": 63,
     "metadata": {},
     "output_type": "execute_result"
    }
   ],
   "source": [
    "s = \" \"\n",
    "isPalindrome(s)"
   ]
  },
  {
   "cell_type": "code",
   "execution_count": 64,
   "id": "defeff90-e816-47fb-b5e8-113c9d00f61e",
   "metadata": {},
   "outputs": [
    {
     "data": {
      "text/plain": [
       "False"
      ]
     },
     "execution_count": 64,
     "metadata": {},
     "output_type": "execute_result"
    }
   ],
   "source": [
    "s = \"0P\"\n",
    "isPalindrome(s)"
   ]
  },
  {
   "cell_type": "code",
   "execution_count": 65,
   "id": "17f434bc-6772-4549-aa52-15918032ac4e",
   "metadata": {},
   "outputs": [],
   "source": [
    "# You can also code your own x.isalnum() function. Very easy to do that. Look at the solution video"
   ]
  },
  {
   "cell_type": "markdown",
   "id": "59287472-12b7-4242-8c31-59e2379a8922",
   "metadata": {
    "jp-MarkdownHeadingCollapsed": true,
    "tags": []
   },
   "source": [
    "### Problem 2"
   ]
  },
  {
   "cell_type": "markdown",
   "id": "fd152c6e-7c38-4230-8d08-fd5d11679be0",
   "metadata": {},
   "source": [
    "- Problem : https://leetcode.com/problems/two-sum-ii-input-array-is-sorted/description/\n",
    "- Solution : https://youtu.be/cQ1Oz4ckceM "
   ]
  },
  {
   "cell_type": "markdown",
   "id": "447251b0-58f3-474d-a2cf-4a38c28c1c7c",
   "metadata": {},
   "source": [
    "Given a 1-indexed array of integers numbers that is already sorted in non-decreasing order, find two numbers such that they add up to a specific target number. Let these two numbers be numbers[index1] and numbers[index2] where 1 <= index1 < index2 <= numbers.length.\n",
    "\n",
    "Return the indices of the two numbers, index1 and index2, added by one as an integer array [index1, index2] of length 2.\n",
    "\n",
    "The tests are generated such that there is exactly one solution. You may not use the same element twice.\n",
    "\n",
    "Your solution must use only constant extra space.\n",
    "\n",
    "Example 1:\n",
    "\n",
    "    Input: numbers = [2,7,11,15], target = 9\n",
    "    Output: [1,2]\n",
    "    Explanation: The sum of 2 and 7 is 9. Therefore, index1 = 1, index2 = 2. We return [1, 2].\n",
    "    \n",
    "Example 2:\n",
    "\n",
    "    Input: numbers = [2,3,4], target = 6\n",
    "    Output: [1,3]\n",
    "    Explanation: The sum of 2 and 4 is 6. Therefore index1 = 1, index2 = 3. We return [1, 3].\n",
    "\n",
    "Example 3:\n",
    "\n",
    "    Input: numbers = [-1,0], target = -1\n",
    "    Output: [1,2]\n",
    "    Explanation: The sum of -1 and 0 is -1. Therefore index1 = 1, index2 = 2. We return [1, 2]."
   ]
  },
  {
   "cell_type": "code",
   "execution_count": 67,
   "id": "8552a6ad-2766-442d-9d22-e23d89ddfb44",
   "metadata": {},
   "outputs": [],
   "source": [
    "# Similar to \"Problem 3\" in arrays and hashing\n",
    "# But here we need to solve in Space = O(1) i.e not using any extra space"
   ]
  },
  {
   "cell_type": "code",
   "execution_count": 80,
   "id": "ab9671a2-4ae9-444c-952d-83713d656a86",
   "metadata": {},
   "outputs": [
    {
     "name": "stdout",
     "output_type": "stream",
     "text": [
      "(1, 2)\n",
      "(2, 3)\n"
     ]
    }
   ],
   "source": [
    "def twoSum(numbers, target):\n",
    "    l = 0\n",
    "    r = len(numbers) - 1\n",
    "    while l < r:\n",
    "        # print(numbers[l], numbers[r])\n",
    "        if numbers[l] + numbers[r] == target:\n",
    "            return l+1, r+1\n",
    "        elif numbers[l] + numbers[r] > target:\n",
    "            r -= 1\n",
    "        else:\n",
    "            l +=1\n",
    "        \n",
    "numbers = [2,7,11,15]\n",
    "target = 9\n",
    "print(twoSum(numbers, target))\n",
    "\n",
    "numbers = [5,25,75]\n",
    "target = 100\n",
    "print(twoSum(numbers, target))"
   ]
  },
  {
   "cell_type": "markdown",
   "id": "161ec8b5-08e5-49fa-b13d-68b1e5b96172",
   "metadata": {
    "jp-MarkdownHeadingCollapsed": true,
    "tags": []
   },
   "source": [
    "### Problem 3"
   ]
  },
  {
   "cell_type": "markdown",
   "id": "9829a800-5b3b-4a41-8392-e05f12c2b5f2",
   "metadata": {},
   "source": [
    "- Problem : https://leetcode.com/problems/3sum/description/\n",
    "- Solution : https://youtu.be/jzZsG8n2R9A"
   ]
  },
  {
   "cell_type": "markdown",
   "id": "765b4bb4-42a7-4b91-bd2a-c8dc6d08e0f6",
   "metadata": {},
   "source": [
    "Given an integer array nums, return all the triplets [nums[i], nums[j], nums[k]] such that i != j, i != k, and j != k, and nums[i] + nums[j] + nums[k] == 0.\n",
    "\n",
    "Notice that the solution set must not contain duplicate triplets.\n",
    "\n",
    "Example 1:\n",
    "\n",
    "    Input: nums = [-1,0,1,2,-1,-4]\n",
    "    Output: [[-1,-1,2],[-1,0,1]]\n",
    "    Explanation: \n",
    "    nums[0] + nums[1] + nums[2] = (-1) + 0 + 1 = 0.\n",
    "    nums[1] + nums[2] + nums[4] = 0 + 1 + (-1) = 0.\n",
    "    nums[0] + nums[3] + nums[4] = (-1) + 2 + (-1) = 0.\n",
    "    The distinct triplets are [-1,0,1] and [-1,-1,2].\n",
    "    Notice that the order of the output and the order of the triplets does not matter.\n",
    "\n",
    "Example 2:\n",
    "\n",
    "    Input: nums = [0,1,1]\n",
    "    Output: []\n",
    "    Explanation: The only possible triplet does not sum up to 0.\n",
    "\n",
    "Example 3:\n",
    "\n",
    "    Input: nums = [0,0,0]\n",
    "    Output: [[0,0,0]]\n",
    "    Explanation: The only possible triplet sums up to 0."
   ]
  },
  {
   "cell_type": "code",
   "execution_count": 89,
   "id": "0b8394dc-7637-4372-b982-d17099cbb985",
   "metadata": {},
   "outputs": [
    {
     "data": {
      "text/plain": [
       "[-4, -1, -1, 0, 1, 2]"
      ]
     },
     "execution_count": 89,
     "metadata": {},
     "output_type": "execute_result"
    }
   ],
   "source": [
    "nums"
   ]
  },
  {
   "cell_type": "code",
   "execution_count": 146,
   "id": "f012ea2e-7f84-4f22-ad70-fb0ac577a156",
   "metadata": {},
   "outputs": [
    {
     "name": "stdout",
     "output_type": "stream",
     "text": [
      "2\n",
      "[0, -1, 1] 3 1 4\n",
      "[1, -1, 0] 4 1 3\n"
     ]
    },
    {
     "data": {
      "text/plain": [
       "[[0, -1, 1], [1, -1, 0]]"
      ]
     },
     "execution_count": 146,
     "metadata": {},
     "output_type": "execute_result"
    }
   ],
   "source": [
    "# Total Time Complexity = O(nlogn) + O(n*n) = O(n*n)\n",
    "\n",
    "nums = [-1,0,1,2,-1,-4]\n",
    "nums = sorted(nums) # O(nlogn)\n",
    "\n",
    "ans = []\n",
    "\n",
    "for i in range(len(nums)): # O(n)\n",
    "    l = 0\n",
    "    r = len(nums) - 1\n",
    "    \n",
    "    if (i > 0 and nums[i] == nums[i-1]):\n",
    "        print(i)\n",
    "        continue\n",
    "    else:\n",
    "        while l < r: # O(n). Two sum takes a time complexity of O(n)\n",
    "            curSum = nums[i] + nums[l] + nums[r]\n",
    "            # print([nums[i] ,nums[l] ,nums[r]])\n",
    "            if curSum < 0:        \n",
    "                l += 1\n",
    "            elif curSum > 0:\n",
    "                r -= 1\n",
    "            elif curSum == 0:\n",
    "                if (i != l and i != r):\n",
    "                    print([nums[i] ,nums[l] ,nums[r]], i,l,r)\n",
    "                    ans.append([nums[i] ,nums[l] ,nums[r]])\n",
    "                    break\n",
    "                else:\n",
    "                    break\n",
    "            \n",
    "ans"
   ]
  },
  {
   "cell_type": "code",
   "execution_count": 144,
   "id": "129f9f9e-5ed4-4358-b2ee-7bbcdf593b32",
   "metadata": {},
   "outputs": [
    {
     "data": {
      "text/plain": [
       "[-4, -1, -1, 0, 1, 2]"
      ]
     },
     "execution_count": 144,
     "metadata": {},
     "output_type": "execute_result"
    }
   ],
   "source": [
    "nums"
   ]
  },
  {
   "cell_type": "code",
   "execution_count": 155,
   "id": "a2bbc90a-45d2-42bb-b9e9-8139563a18b6",
   "metadata": {},
   "outputs": [
    {
     "data": {
      "text/plain": [
       "[[-1, -1, 2], [-1, 0, 1]]"
      ]
     },
     "execution_count": 155,
     "metadata": {},
     "output_type": "execute_result"
    }
   ],
   "source": [
    "# Total Time Complexity = O(nlogn) + O(n*n) = O(n*n)\n",
    "def threeSum(nums):\n",
    "    nums = sorted(nums) # O(nlogn)\n",
    "    ans = []\n",
    "\n",
    "    for i in range(len(nums)): # O(n)\n",
    "\n",
    "        # if nums[i] == nums[i-1], that means we have already checked all numbers with nums[i-1]\n",
    "        # No need to do it again with nums[i] because nums[i] == nums[i-1]\n",
    "        if (i > 0 and nums[i] == nums[i-1]): \n",
    "            continue\n",
    "\n",
    "        l = i+1\n",
    "        r = len(nums) - 1\n",
    "\n",
    "        while l < r: # O(n). Two sum takes a time complexity of O(n)\n",
    "            curSum = nums[i] + nums[l] + nums[r]\n",
    "\n",
    "            if curSum < 0:        \n",
    "                l += 1\n",
    "            elif curSum > 0:\n",
    "                r -= 1\n",
    "            elif curSum == 0:\n",
    "                triplet = [nums[i] ,nums[l] ,nums[r]]\n",
    "                ans.append(triplet)\n",
    "                # After appending the triplet, we need to do something with l and r so that the while loop moves forward\n",
    "                # Otherwise it will get stuck into an infinite while loop\n",
    "                # basically below teo lines keep looking for more triplets after one triplet is found\n",
    "                # The conditions nums[l] == triplet[1] and nums[r] == triplet[2] are to avoid duplicates\n",
    "                while l < r and nums[l] == triplet[1]:\n",
    "                    l+=1\n",
    "                while l < r and nums[r] == triplet[2]:\n",
    "                    r-=1   \n",
    "    return ans\n",
    "\n",
    "nums = [-1,0,1,2,-1,-4]\n",
    "threeSum(nums)"
   ]
  },
  {
   "cell_type": "markdown",
   "id": "b48f1450-0e81-454b-96b8-d3ca72837a88",
   "metadata": {},
   "source": [
    "Good Animations and Solution : https://www.youtube.com/watch?v=IIxoo93bmPQ"
   ]
  },
  {
   "cell_type": "code",
   "execution_count": null,
   "id": "350b1d35-9ba1-4a8c-81c2-58025389d35d",
   "metadata": {},
   "outputs": [],
   "source": []
  },
  {
   "cell_type": "code",
   "execution_count": null,
   "id": "eb2de308-2ccf-413c-a1c0-b064af1e7ce4",
   "metadata": {},
   "outputs": [],
   "source": []
  },
  {
   "cell_type": "code",
   "execution_count": null,
   "id": "fcecb4f9-6665-4c9f-9231-f6f57d60da8c",
   "metadata": {},
   "outputs": [],
   "source": []
  },
  {
   "cell_type": "markdown",
   "id": "356fe539-f0f2-4449-a69a-6062acb9c43f",
   "metadata": {
    "jp-MarkdownHeadingCollapsed": true,
    "tags": []
   },
   "source": [
    "### Problem 4"
   ]
  },
  {
   "cell_type": "markdown",
   "id": "7342581a-b59b-453b-967e-01ae0dc6c749",
   "metadata": {},
   "source": [
    "- Problem : https://leetcode.com/problems/container-with-most-water/description/\n",
    "- Solution : https://youtu.be/UuiTKBwPgAo"
   ]
  },
  {
   "cell_type": "code",
   "execution_count": 162,
   "id": "600891f4-9d1b-484a-be65-5478f8fb5a41",
   "metadata": {},
   "outputs": [
    {
     "data": {
      "text/plain": [
       "49"
      ]
     },
     "execution_count": 162,
     "metadata": {},
     "output_type": "execute_result"
    }
   ],
   "source": [
    "# If you simulate the problem, it will be O(n^2) which is not efficient.\n",
    "# Try to use two-pointers. \n",
    "    # Set one pointer to the left and one to the right of the array. Always move the pointer that points to the lower line.\n",
    "\n",
    "# Time: O(n)\n",
    "def maxArea(height):\n",
    "    l = 0\n",
    "    r = len(height) - 1\n",
    "\n",
    "    max_area = 0\n",
    "    while l < r:\n",
    "\n",
    "        area = min(height[l], height[r])*(r-l)\n",
    "\n",
    "        max_area = max(area, max_area)\n",
    "        if height[l] < height[r]:\n",
    "            l+=1\n",
    "        elif height[l] >= height[r]:\n",
    "            r-=1\n",
    "    \n",
    "    return max_area\n",
    "\n",
    "height = [1,8,6,2,5,4,8,3,7]\n",
    "maxArea(height)"
   ]
  },
  {
   "cell_type": "markdown",
   "id": "8a40e022-17ce-4225-aa84-675e746c3a53",
   "metadata": {
    "jp-MarkdownHeadingCollapsed": true,
    "tags": []
   },
   "source": [
    "### Problem 5"
   ]
  },
  {
   "cell_type": "markdown",
   "id": "5ad3422a-af27-4227-8710-b34239c9de28",
   "metadata": {},
   "source": [
    "- Problem : https://leetcode.com/problems/trapping-rain-water/description/\n",
    "- Solution : https://youtu.be/ZI2z5pq0TqA"
   ]
  },
  {
   "cell_type": "markdown",
   "id": "50428d0b-fb75-401c-a228-dc47918e3cb0",
   "metadata": {},
   "source": [
    "Hard Problem. Seems Undoable. Video solution explains concept clearly"
   ]
  },
  {
   "cell_type": "code",
   "execution_count": null,
   "id": "3186d441-1bd8-4a2c-8445-20c344b1e427",
   "metadata": {},
   "outputs": [],
   "source": [
    "# For the below solution. Time: O(n), Space: O(n), needed to store L and R.\n",
    "# Optimal solution can be done in Space : O(1)"
   ]
  },
  {
   "cell_type": "code",
   "execution_count": null,
   "id": "609b34a4-4b79-4e57-8cb7-661e177db068",
   "metadata": {},
   "outputs": [],
   "source": [
    "# for each position i\n",
    "# min(L, R) - h(i) gives the amount of water that can be trapped on that position\n",
    "# where:\n",
    "    # L = max height on left side of i\n",
    "    # R = max height on right side of i\n",
    "    # h(i) = height at position i"
   ]
  },
  {
   "cell_type": "code",
   "execution_count": 164,
   "id": "28dcfeb0-d04a-409a-a669-0c0eef2f980f",
   "metadata": {},
   "outputs": [],
   "source": [
    "height = [0,1,0,2,1,0,1,3,2,1,2,1]"
   ]
  },
  {
   "cell_type": "code",
   "execution_count": 167,
   "id": "dd4fed7f-dff1-404e-9b22-ecbf3acfb100",
   "metadata": {},
   "outputs": [
    {
     "name": "stdout",
     "output_type": "stream",
     "text": [
      "[0, 0, 1, 1, 2, 2, 2, 2, 3, 3, 3, 3]\n",
      "[3, 3, 3, 3, 3, 3, 3, 2, 2, 2, 1, 0]\n"
     ]
    }
   ],
   "source": [
    "# create two sequqnces L and R\n",
    "L = [None]*len(height)\n",
    "R = [None]*len(height)\n",
    "\n",
    "maxL = 0\n",
    "for i in range(len(height)):\n",
    "    L[i] = maxL\n",
    "    maxL = max(maxL, height[i])\n",
    "\n",
    "maxR = 0\n",
    "for i in range(len(height)-1, -1, -1):\n",
    "    R[i] = maxR\n",
    "    maxR = max(maxR, height[i])\n",
    "    \n",
    "print(L)\n",
    "print(R)"
   ]
  },
  {
   "cell_type": "code",
   "execution_count": 169,
   "id": "57b28bbe-15ba-4462-9584-405183ebd217",
   "metadata": {},
   "outputs": [
    {
     "data": {
      "text/plain": [
       "6"
      ]
     },
     "execution_count": 169,
     "metadata": {},
     "output_type": "execute_result"
    }
   ],
   "source": [
    "ans = 0\n",
    "for i in range(len(height)):\n",
    "    water_at_i = min(L[i], R[i]) - height[i]\n",
    "    water_at_i = max(0, water_at_i)\n",
    "    \n",
    "    ans+= water_at_i\n",
    "\n",
    "ans"
   ]
  },
  {
   "cell_type": "markdown",
   "id": "566a8e32-2e65-4cc6-b4e2-9b53f0355c26",
   "metadata": {},
   "source": [
    "Optimal Solution. Time: O(n), Space: O(1). Using two pointers"
   ]
  },
  {
   "cell_type": "code",
   "execution_count": 176,
   "id": "49d78afa-786e-4188-bda1-1b85507e1de5",
   "metadata": {},
   "outputs": [
    {
     "data": {
      "text/plain": [
       "6"
      ]
     },
     "execution_count": 176,
     "metadata": {},
     "output_type": "execute_result"
    }
   ],
   "source": [
    "l, r = 0, len(height)-1\n",
    "maxl, maxr = height[l], height[r]\n",
    "ans = 0\n",
    "\n",
    "while l < r:\n",
    "    \n",
    "    if maxl < maxr:\n",
    "        water_at_i = maxl - height[l]\n",
    "        water_at_i = max(0, water_at_i)\n",
    "        ans+= water_at_i    \n",
    "        \n",
    "        l+=1\n",
    "        maxl = max(maxl, height[l])\n",
    "        \n",
    "    elif maxl >= maxr:\n",
    "        water_at_i = maxr - height[r]\n",
    "        water_at_i = max(0, water_at_i)\n",
    "        ans+= water_at_i    \n",
    "        \n",
    "        r-=1\n",
    "        maxr = max(maxr, height[r])\n",
    "\n",
    "ans"
   ]
  },
  {
   "cell_type": "code",
   "execution_count": 174,
   "id": "05a23a83-8d04-4d92-8cbe-6aff39003798",
   "metadata": {},
   "outputs": [
    {
     "data": {
      "text/plain": [
       "11"
      ]
     },
     "execution_count": 174,
     "metadata": {},
     "output_type": "execute_result"
    }
   ],
   "source": [
    "i"
   ]
  },
  {
   "cell_type": "code",
   "execution_count": null,
   "id": "5f97b591-9c0a-47f4-a8fd-b1a35ac4ca61",
   "metadata": {},
   "outputs": [],
   "source": []
  },
  {
   "cell_type": "code",
   "execution_count": null,
   "id": "e34de727-a4e0-452b-8f13-9c0fed6ef29a",
   "metadata": {},
   "outputs": [],
   "source": []
  },
  {
   "cell_type": "code",
   "execution_count": null,
   "id": "b67137d5-b40e-4009-842e-082b31108851",
   "metadata": {},
   "outputs": [],
   "source": []
  },
  {
   "cell_type": "code",
   "execution_count": null,
   "id": "e757104c-905e-4f5b-b53e-c32d8894e906",
   "metadata": {},
   "outputs": [],
   "source": []
  }
 ],
 "metadata": {
  "kernelspec": {
   "display_name": "Python 3 (ipykernel)",
   "language": "python",
   "name": "python3"
  },
  "language_info": {
   "codemirror_mode": {
    "name": "ipython",
    "version": 3
   },
   "file_extension": ".py",
   "mimetype": "text/x-python",
   "name": "python",
   "nbconvert_exporter": "python",
   "pygments_lexer": "ipython3",
   "version": "3.10.9"
  }
 },
 "nbformat": 4,
 "nbformat_minor": 5
}
