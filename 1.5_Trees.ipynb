{
 "cells": [
  {
   "cell_type": "markdown",
   "id": "16f4b031-2966-4bc0-8c72-992b1687935e",
   "metadata": {
    "tags": []
   },
   "source": [
    "# Binary Trees Theory"
   ]
  },
  {
   "cell_type": "markdown",
   "id": "a20d0f87-9d00-4451-bcfc-2ed0d8733dfa",
   "metadata": {},
   "source": [
    "- https://www.youtube.com/watch?v=lFq5mYUWEBk"
   ]
  },
  {
   "cell_type": "code",
   "execution_count": 2,
   "id": "6dccfe69-9456-4e36-af25-51de43a033fa",
   "metadata": {},
   "outputs": [],
   "source": [
    "# Always acyclical\n",
    "# two children max\n",
    "# zero children min\n",
    "\n",
    "# condition for binary search trees (BST)\n",
    "# left child < parent < right child\n",
    "# in other words, all the elements on the left side of a parent have value less than the parent\n",
    "# and, all the elements on the right side of a parent have value greater than the parent\n",
    "# equal values/ duplicates not allowed\n",
    "\n",
    "# search complexity of a BST is O(logn), where n = number of nodes in the BST\n",
    "# This is because every time we split the tree in half\n",
    "\n",
    "# Insertion complexity is also O(logn)"
   ]
  },
  {
   "cell_type": "code",
   "execution_count": 3,
   "id": "1bc6a34d-cec6-4664-8982-919fa973f04f",
   "metadata": {},
   "outputs": [],
   "source": [
    "# DFS\n",
    "# In Order Traversal   : left, root, right\n",
    "# Pre Order Traversal  : root, left, right\n",
    "# Post Order Traversal : left, right, root"
   ]
  },
  {
   "cell_type": "code",
   "execution_count": 4,
   "id": "7fdf4c71-7dba-4a48-8412-87128b923d35",
   "metadata": {},
   "outputs": [],
   "source": [
    "class BinarySearchTreeNode:\n",
    "    def __init__(self, data):\n",
    "        self.data = data\n",
    "        self.left = None\n",
    "        self.right = None\n",
    "\n",
    "    def add_child(self, data):\n",
    "        if data == self.data:\n",
    "            return # node already exist\n",
    "\n",
    "        if data < self.data:\n",
    "            if self.left:\n",
    "                self.left.add_child(data)\n",
    "            else:\n",
    "                self.left = BinarySearchTreeNode(data)\n",
    "        else:\n",
    "            if self.right:\n",
    "                self.right.add_child(data)\n",
    "            else:\n",
    "                self.right = BinarySearchTreeNode(data)\n",
    "\n",
    "\n",
    "    def search(self, val):\n",
    "        if self.data == val:\n",
    "            return True\n",
    "\n",
    "        if val < self.data:\n",
    "            if self.left:\n",
    "                return self.left.search(val)\n",
    "            else:\n",
    "                return False\n",
    "\n",
    "        if val > self.data:\n",
    "            if self.right:\n",
    "                return self.right.search(val)\n",
    "            else:\n",
    "                return False\n",
    "\n",
    "    def in_order_traversal(self):\n",
    "        elements = []\n",
    "        if self.left:\n",
    "            elements += self.left.in_order_traversal()\n",
    "\n",
    "        elements.append(self.data)\n",
    "\n",
    "        if self.right:\n",
    "            elements += self.right.in_order_traversal()\n",
    "\n",
    "        return elements"
   ]
  },
  {
   "cell_type": "code",
   "execution_count": 6,
   "id": "d9d59af5-72bd-409d-a44c-62117f8fdc51",
   "metadata": {},
   "outputs": [],
   "source": [
    "def build_tree(elements):\n",
    "    print(\"Building tree with these elements:\",elements)\n",
    "    root = BinarySearchTreeNode(elements[0])\n",
    "\n",
    "    for i in range(1,len(elements)):\n",
    "        root.add_child(elements[i])\n",
    "\n",
    "    return root"
   ]
  },
  {
   "cell_type": "code",
   "execution_count": 7,
   "id": "36f71ca5-3596-43b8-bdef-10dd52706806",
   "metadata": {},
   "outputs": [
    {
     "name": "stdout",
     "output_type": "stream",
     "text": [
      "Building tree with these elements: ['India', 'Pakistan', 'Germany', 'USA', 'China', 'India', 'UK', 'USA']\n",
      "UK is in the list?  True\n",
      "Sweden is in the list?  False\n"
     ]
    }
   ],
   "source": [
    "countries = [\"India\",\"Pakistan\",\"Germany\", \"USA\",\"China\",\"India\",\"UK\",\"USA\"]\n",
    "country_tree = build_tree(countries)\n",
    "\n",
    "print(\"UK is in the list? \", country_tree.search(\"UK\"))\n",
    "print(\"Sweden is in the list? \", country_tree.search(\"Sweden\"))"
   ]
  },
  {
   "cell_type": "code",
   "execution_count": 8,
   "id": "2feb254a-cbc3-45dd-930b-80c6a8875e1e",
   "metadata": {},
   "outputs": [
    {
     "name": "stdout",
     "output_type": "stream",
     "text": [
      "Building tree with these elements: [17, 4, 1, 20, 9, 23, 18, 34]\n",
      "In order traversal gives this sorted list: [1, 4, 9, 17, 18, 20, 23, 34]\n"
     ]
    }
   ],
   "source": [
    "numbers_tree = build_tree([17, 4, 1, 20, 9, 23, 18, 34])\n",
    "print(\"In order traversal gives this sorted list:\",numbers_tree.in_order_traversal())"
   ]
  },
  {
   "cell_type": "markdown",
   "id": "74c1ce9b-d1ec-4d80-a840-9d175e55b7b6",
   "metadata": {
    "jp-MarkdownHeadingCollapsed": true,
    "tags": []
   },
   "source": [
    "# Problem1"
   ]
  },
  {
   "cell_type": "markdown",
   "id": "d2689e7f-2cdd-4129-9e4c-67ab73f2902e",
   "metadata": {},
   "source": [
    "- Problem: https://leetcode.com/problems/invert-binary-tree/description/\n",
    "- Solution : https://youtu.be/OnSn2XEQ4MY"
   ]
  },
  {
   "cell_type": "code",
   "execution_count": null,
   "id": "69f26b42-dd6d-49df-b765-7e5f48f67311",
   "metadata": {},
   "outputs": [],
   "source": [
    "# Definition for a binary tree node.\n",
    "# class TreeNode:\n",
    "#     def __init__(self, val=0, left=None, right=None):\n",
    "#         self.val = val\n",
    "#         self.left = left\n",
    "#         self.right = right"
   ]
  },
  {
   "cell_type": "code",
   "execution_count": 5,
   "id": "2d03c6da-cfb8-4969-9072-4574b2e1a0df",
   "metadata": {},
   "outputs": [],
   "source": [
    "class Solution:        \n",
    "    def invertTree(self, root: TreeNode) -> TreeNode:\n",
    "        if root is None:\n",
    "            return None\n",
    "        \n",
    "        # swap the children\n",
    "        root.left, root.right = root.right, root.left\n",
    "        \n",
    "        # make 2 recursive calls\n",
    "        self.invertTree(root.left)\n",
    "        self.invertTree(root.right)\n",
    "        return root"
   ]
  },
  {
   "cell_type": "markdown",
   "id": "50f559b5-683f-49e0-a40b-31139a95a7cb",
   "metadata": {
    "tags": []
   },
   "source": [
    "# Problem 2 - Max Depth"
   ]
  },
  {
   "cell_type": "markdown",
   "id": "83e4e01c-8581-41c7-a310-15dea4ea5c10",
   "metadata": {},
   "source": [
    "- Problem: https://leetcode.com/problems/maximum-depth-of-binary-tree/description/\n",
    "- Solution: https://youtu.be/hTM3phVI6YQ (good solution to learn basics of BFS)"
   ]
  },
  {
   "cell_type": "markdown",
   "id": "1bf4a04e-48b7-4b31-b298-a519d42390fb",
   "metadata": {},
   "source": [
    "#### Recursive DFS"
   ]
  },
  {
   "cell_type": "code",
   "execution_count": null,
   "id": "0b8293d0-c6ca-4916-9726-7544734b09f6",
   "metadata": {},
   "outputs": [],
   "source": [
    "# Solution using recursive DFS\n",
    "# Time : O(n)\n",
    "\n",
    "class Solution:\n",
    "    def maxDepth(self, root: Optional[TreeNode]) -> int:\n",
    "        if root is None:\n",
    "            return 0\n",
    "        \n",
    "        return 1 + max(self.maxDepth(root.left), self.maxDepth(root.right))"
   ]
  },
  {
   "cell_type": "markdown",
   "id": "f090f61a-ff69-4818-b2a1-0873e4a16dd7",
   "metadata": {},
   "source": [
    "#### BFS"
   ]
  },
  {
   "cell_type": "code",
   "execution_count": null,
   "id": "d7eac257-48b6-4e1d-b2ed-4ac9c292248d",
   "metadata": {},
   "outputs": [],
   "source": [
    "# Solution using iterative BFS\n",
    "# Time : O(n)\n",
    "# BFS is a level order raversal. \n",
    "# For this problem we can count the number of levels. That would be the max depth\n",
    "\n",
    "class Solution:\n",
    "    def maxDepth(self, root: Optional[TreeNode]) -> int:\n",
    "        if root is None:\n",
    "            return 0\n",
    "        \n",
    "        level = 0\n",
    "        q = collections.deque([root])\n",
    "        while q:\n",
    "            for i in range(len(q)): # go over the q and pop all elements\n",
    "                node = q.popleft() # remove a node from the q\n",
    "                if node.left is not None: # if the node.left is not null, we will add it's children\n",
    "                    q.append(node.left)\n",
    "                if node.right is not None: # if the node.left is not null, we will add it's children\n",
    "                    q.append(node.right)\n",
    "            \n",
    "            level += 1\n",
    "            \n",
    "        return level"
   ]
  },
  {
   "cell_type": "markdown",
   "id": "6c38662c-9e1c-42ee-b31a-4d7e246228af",
   "metadata": {},
   "source": [
    "#### Iterative DFS"
   ]
  },
  {
   "cell_type": "code",
   "execution_count": null,
   "id": "9eb7ab02-62c3-4194-9977-542b9643c57d",
   "metadata": {},
   "outputs": [],
   "source": [
    "# Solution using iterative DFS\n",
    "# Time : O(n)\n",
    "# we will use pre order traversal : root, left, right\n",
    "\n",
    "class Solution:\n",
    "    def maxDepth(self, root: Optional[TreeNode]) -> int:\n",
    "        if root is None:\n",
    "            return 0\n",
    "        \n",
    "        stack = [[root, 1]]\n",
    "        res = 1\n",
    "        \n",
    "        while stack:\n",
    "            node, depth = stack.pop()\n",
    "            \n",
    "            if node is not None:\n",
    "                res = max(res, depth)\n",
    "                stack.append([node.left, depth + 1])\n",
    "                stack.append([node.right, depth + 1])\n",
    "                \n",
    "        return res"
   ]
  },
  {
   "cell_type": "markdown",
   "id": "ba1f5de0-578e-4851-872a-ea425226395c",
   "metadata": {},
   "source": [
    "# Problem 3 - Diameter of a Tree - TBD"
   ]
  },
  {
   "cell_type": "markdown",
   "id": "d37d5f9f-71c3-49d6-9334-38e8e564c818",
   "metadata": {},
   "source": [
    "- Problem : https://leetcode.com/problems/diameter-of-binary-tree/description/\n",
    "- Solution : https://youtu.be/bkxqA8Rfv04"
   ]
  },
  {
   "cell_type": "code",
   "execution_count": 9,
   "id": "e29d1164-1c7f-4f85-9503-dfeb7b30d73c",
   "metadata": {},
   "outputs": [],
   "source": [
    " # Time : O(n)"
   ]
  },
  {
   "cell_type": "code",
   "execution_count": null,
   "id": "2e27ae0c-ce59-442a-8ec1-0a25f9053efa",
   "metadata": {},
   "outputs": [],
   "source": [
    "class Solution:\n",
    "    def diameterOfBinaryTree(self, root: Optional[TreeNode]) -> int:"
   ]
  },
  {
   "cell_type": "markdown",
   "id": "36420e67-95ca-4388-ab36-845761f011d4",
   "metadata": {},
   "source": [
    "# Problem 4 - balanced binary tree - TBD"
   ]
  },
  {
   "cell_type": "markdown",
   "id": "71ba91a9-90ea-414f-a5c0-84ca8c727fa9",
   "metadata": {},
   "source": [
    "- Problem: https://leetcode.com/problems/balanced-binary-tree/description/\n",
    "- Solution: https://youtu.be/QfJsau0ItOY"
   ]
  },
  {
   "cell_type": "code",
   "execution_count": null,
   "id": "99c1200a-7027-44bf-a83c-add852b3c898",
   "metadata": {},
   "outputs": [],
   "source": [
    "# Time : O(n), because we will go through each node only once"
   ]
  },
  {
   "cell_type": "code",
   "execution_count": null,
   "id": "d7a393f9-fda2-4afb-a3bd-8ec2b5d3cd5a",
   "metadata": {},
   "outputs": [],
   "source": [
    "class Solution:\n",
    "    def isBalanced(self, root: Optional[TreeNode]) -> bool:\n",
    "        def dfs(root):\n",
    "            if not root:\n",
    "                return [True, 0]\n",
    "\n",
    "            left, right = dfs(root.left), dfs(root.right)\n",
    "            balanced = left[0] and right[0] and abs(left[1] - right[1]) <= 1\n",
    "            return [balanced, 1 + max(left[1], right[1])]\n",
    "\n",
    "        return dfs(root)[0]"
   ]
  },
  {
   "cell_type": "code",
   "execution_count": null,
   "id": "dd20bd52-ec0f-436d-8f2e-9d6cfa487af1",
   "metadata": {},
   "outputs": [],
   "source": []
  },
  {
   "cell_type": "code",
   "execution_count": null,
   "id": "c65622ad-679a-4b55-9487-dac6afe9bb8e",
   "metadata": {},
   "outputs": [],
   "source": []
  }
 ],
 "metadata": {
  "kernelspec": {
   "display_name": "Python 3 (ipykernel)",
   "language": "python",
   "name": "python3"
  },
  "language_info": {
   "codemirror_mode": {
    "name": "ipython",
    "version": 3
   },
   "file_extension": ".py",
   "mimetype": "text/x-python",
   "name": "python",
   "nbconvert_exporter": "python",
   "pygments_lexer": "ipython3",
   "version": "3.10.9"
  }
 },
 "nbformat": 4,
 "nbformat_minor": 5
}
