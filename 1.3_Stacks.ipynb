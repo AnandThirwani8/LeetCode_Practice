{
 "cells": [
  {
   "cell_type": "markdown",
   "id": "52191080-8121-48ff-a11d-5a0cb577de05",
   "metadata": {},
   "source": [
    "# Roadmap"
   ]
  },
  {
   "cell_type": "markdown",
   "id": "ff64c9e1-b0d2-4163-8e79-92ceb73af30a",
   "metadata": {},
   "source": [
    "https://neetcode.io/roadmap"
   ]
  },
  {
   "cell_type": "markdown",
   "id": "df6b20ba-d379-414a-8d77-1b1902b24a68",
   "metadata": {},
   "source": [
    "# Stacks"
   ]
  },
  {
   "cell_type": "markdown",
   "id": "97c4c951-7959-4a6a-9f24-46a9d642619f",
   "metadata": {
    "tags": []
   },
   "source": [
    "### Problem 1"
   ]
  },
  {
   "cell_type": "markdown",
   "id": "e146d94f-32ae-4122-acc6-f7d3397510b4",
   "metadata": {},
   "source": [
    "- Problem : https://leetcode.com/problems/valid-parentheses/description/\n",
    "- Solution : https://youtu.be/WTzjTskDFMg"
   ]
  },
  {
   "cell_type": "markdown",
   "id": "439abbc7-1894-4d0b-8562-09d4ac2009b7",
   "metadata": {},
   "source": [
    "Given a string s containing just the characters '(', ')', '{', '}', '[' and ']', determine if the input string is valid.\n",
    "\n",
    "An input string is valid if:\n",
    "\n",
    "Open brackets must be closed by the same type of brackets.\n",
    "Open brackets must be closed in the correct order.\n",
    "Every close bracket has a corresponding open bracket of the same type.\n",
    " \n",
    "\n",
    "Example 1:\n",
    "\n",
    "    Input: s = \"()\"\n",
    "    Output: true\n",
    "    \n",
    "Example 2:\n",
    "\n",
    "    Input: s = \"()[]{}\"\n",
    "    Output: true\n",
    "\n",
    "Example 3:\n",
    "\n",
    "    Input: s = \"(]\"\n",
    "    Output: false"
   ]
  },
  {
   "cell_type": "code",
   "execution_count": 4,
   "id": "d47e08b8-819c-4e9b-a19e-524a9513afb8",
   "metadata": {},
   "outputs": [],
   "source": [
    "def reverse(b):\n",
    "    if b == ')':\n",
    "        return '('\n",
    "    elif b == ']':\n",
    "        return '['\n",
    "    elif b == '}':\n",
    "        return '{'\n",
    "    \n",
    "def isleft(b):\n",
    "    if b in ['(', '[', '{']:\n",
    "        return True"
   ]
  },
  {
   "cell_type": "code",
   "execution_count": 9,
   "id": "229e1f30-d04a-4b21-b2af-c5011b5cd870",
   "metadata": {},
   "outputs": [
    {
     "data": {
      "text/plain": [
       "True"
      ]
     },
     "execution_count": 9,
     "metadata": {},
     "output_type": "execute_result"
    }
   ],
   "source": [
    "def func1(s):\n",
    "    arr = []\n",
    "    for b in s:\n",
    "        if isleft(b):\n",
    "            arr.append(b)\n",
    "        else:\n",
    "            if (len(arr)>0 and arr[-1] == reverse(b)):\n",
    "                arr.pop()\n",
    "            else:\n",
    "                return False\n",
    "    return True\n",
    "\n",
    "\n",
    "s = \"()[]{}\"\n",
    "func1(s)"
   ]
  },
  {
   "cell_type": "code",
   "execution_count": 10,
   "id": "97bb1105-bef5-4cfe-8f3e-836450eabcd6",
   "metadata": {},
   "outputs": [
    {
     "data": {
      "text/plain": [
       "False"
      ]
     },
     "execution_count": 10,
     "metadata": {},
     "output_type": "execute_result"
    }
   ],
   "source": [
    "s = \"(]\"\n",
    "func1(s)"
   ]
  },
  {
   "cell_type": "code",
   "execution_count": 11,
   "id": "285068ff-fef3-47ff-bcae-a4c4c719a47b",
   "metadata": {},
   "outputs": [
    {
     "data": {
      "text/plain": [
       "False"
      ]
     },
     "execution_count": 11,
     "metadata": {},
     "output_type": "execute_result"
    }
   ],
   "source": [
    "s = \")(\"\n",
    "func1(s)"
   ]
  },
  {
   "cell_type": "code",
   "execution_count": 12,
   "id": "6b472377-29c7-4d4c-bcf4-afa8832f456c",
   "metadata": {},
   "outputs": [
    {
     "data": {
      "text/plain": [
       "False"
      ]
     },
     "execution_count": 12,
     "metadata": {},
     "output_type": "execute_result"
    }
   ],
   "source": [
    "s = \")\"\n",
    "func1(s)"
   ]
  },
  {
   "cell_type": "code",
   "execution_count": 13,
   "id": "7a7155d8-4343-41e8-8d88-bf3e147612d8",
   "metadata": {},
   "outputs": [
    {
     "data": {
      "text/plain": [
       "True"
      ]
     },
     "execution_count": 13,
     "metadata": {},
     "output_type": "execute_result"
    }
   ],
   "source": [
    "# Wrong Answer\n",
    "s = \"(\"\n",
    "func1(s)"
   ]
  },
  {
   "cell_type": "markdown",
   "id": "3d471c21-f5af-4b36-8b39-f89667edfd64",
   "metadata": {},
   "source": [
    "Optimal Solution"
   ]
  },
  {
   "cell_type": "code",
   "execution_count": 14,
   "id": "96cd6c6f-7985-414a-9a2e-022f0364d6d5",
   "metadata": {},
   "outputs": [],
   "source": [
    "# Time: O(n), Going through the string of brackets once\n",
    "# Space: O(n), We will create a stack"
   ]
  },
  {
   "cell_type": "code",
   "execution_count": 51,
   "id": "a9aa6c72-dc46-463a-9121-7dc2cb06192b",
   "metadata": {},
   "outputs": [],
   "source": [
    "def isValid(s):\n",
    "    stack = []  # Space O(n)\n",
    "    CloseToOpen = {')':'(', ']':'[', '}':'{'}\n",
    "    \n",
    "    for b in s: # Time O(n)\n",
    "        \n",
    "        if b in CloseToOpen.keys(): # if it is a closing bracket (right side)\n",
    "            if (len(stack)>0 and stack[-1] == CloseToOpen[b]): # check if there is a corresponding left bracket at the end of the stack\n",
    "                stack.pop() # O(1)\n",
    "            else:\n",
    "                return False\n",
    "            \n",
    "        elif b in CloseToOpen.values(): # if it is an opening bracket (left side)\n",
    "            stack.append(b)\n",
    "    \n",
    "    return True if len(stack) == 0 else False"
   ]
  },
  {
   "cell_type": "code",
   "execution_count": 52,
   "id": "8098c4f2-0088-4c48-bc52-65cb84f442bd",
   "metadata": {},
   "outputs": [
    {
     "data": {
      "text/plain": [
       "True"
      ]
     },
     "execution_count": 52,
     "metadata": {},
     "output_type": "execute_result"
    }
   ],
   "source": [
    "s = \"()[]{}\"\n",
    "isValid(s)"
   ]
  },
  {
   "cell_type": "code",
   "execution_count": 53,
   "id": "de53b5e1-c46a-482b-8da4-db8f7f874d8d",
   "metadata": {},
   "outputs": [
    {
     "data": {
      "text/plain": [
       "False"
      ]
     },
     "execution_count": 53,
     "metadata": {},
     "output_type": "execute_result"
    }
   ],
   "source": [
    "s = \"(\"\n",
    "isValid(s)"
   ]
  },
  {
   "cell_type": "code",
   "execution_count": 54,
   "id": "ee592f58-f3d3-45c9-95f6-12a80a4ad407",
   "metadata": {},
   "outputs": [
    {
     "data": {
      "text/plain": [
       "False"
      ]
     },
     "execution_count": 54,
     "metadata": {},
     "output_type": "execute_result"
    }
   ],
   "source": [
    "s = \")(\"\n",
    "isValid(s)"
   ]
  },
  {
   "cell_type": "markdown",
   "id": "1e2ec1a9-60c4-40a8-9541-08ce9606aac2",
   "metadata": {
    "tags": []
   },
   "source": [
    "### Problem 2"
   ]
  },
  {
   "cell_type": "markdown",
   "id": "635b4652-f45b-4e10-b40d-64c7802daedd",
   "metadata": {},
   "source": [
    "- Problem : https://leetcode.com/problems/min-stack/\n",
    "- Solution : https://youtu.be/qkLl7nAwDPo"
   ]
  },
  {
   "cell_type": "markdown",
   "id": "4c0236ff-f519-47b8-81c4-1c74eb909bd5",
   "metadata": {},
   "source": [
    "Design a stack that supports push, pop, top, and retrieving the minimum element in constant time.\n",
    "\n",
    "Implement the MinStack class:\n",
    "\n",
    "- MinStack() initializes the stack object.\n",
    "- void push(int val) pushes the element val onto the stack.\n",
    "- void pop() removes the element on the top of the stack.\n",
    "- int top() gets the top element of the stack.\n",
    "- int getMin() retrieves the minimum element in the stack.\n",
    "\n",
    "You must implement a solution with O(1) time complexity for each function."
   ]
  },
  {
   "cell_type": "code",
   "execution_count": 83,
   "id": "ebccde84-a120-493d-943e-76af59041fda",
   "metadata": {},
   "outputs": [],
   "source": [
    "# Basic Solution\n",
    "class MinStack:\n",
    "    def __init__(self):\n",
    "        self.stack = []\n",
    "        \n",
    "    def push(self, val: int):\n",
    "        self.stack.append(val)\n",
    "        \n",
    "    def pop(self):\n",
    "        self.stack.pop()\n",
    "        \n",
    "    def top(self):\n",
    "        return self.stack[-1]\n",
    "        \n",
    "    def getMin(self):\n",
    "        return min(self.stack) # We will have to look at the entire array to find min value. Time : O(n)"
   ]
  },
  {
   "cell_type": "code",
   "execution_count": 82,
   "id": "162c6871-fcbe-48b9-a9c8-787f75c5fb88",
   "metadata": {},
   "outputs": [
    {
     "name": "stdout",
     "output_type": "stream",
     "text": [
      "[1, 2, 3, 4]\n",
      "[1, 2, 3]\n",
      "3\n",
      "1\n"
     ]
    }
   ],
   "source": [
    "s1 = MinStack()\n",
    "\n",
    "s1.push(1)\n",
    "s1.push(2)\n",
    "s1.push(3)\n",
    "s1.push(4)\n",
    "print(s1.stack)\n",
    "\n",
    "s1.pop()\n",
    "print(s1.stack)\n",
    "\n",
    "print(s1.top())\n",
    "print(s1.getMin())"
   ]
  },
  {
   "cell_type": "markdown",
   "id": "b60ff54a-9c9c-4ade-ad69-320e96b2f358",
   "metadata": {},
   "source": [
    "Optimal Solution"
   ]
  },
  {
   "cell_type": "code",
   "execution_count": 86,
   "id": "e4c3f468-9c27-4a83-88cf-f1e049afc6c7",
   "metadata": {},
   "outputs": [],
   "source": [
    "# Cool Solution\n",
    "# Suboptimal. Adding and Retrieving from the hashmap can be O(n) in the worst case.\n",
    "# But this gives better performance on leetcode :p\n",
    "\n",
    "class MinStack:\n",
    "    def __init__(self):\n",
    "        self.stack = []\n",
    "        self.len = 0\n",
    "        self.hashmap = {0:None} # This will store the minimum value for each length of the stack\n",
    "        \n",
    "    def push(self, val: int):\n",
    "        self.stack.append(val)\n",
    "             \n",
    "        if self.len == 0:\n",
    "            self.hashmap[1] = val            \n",
    "        else:\n",
    "            self.hashmap[self.len + 1] = min(self.hashmap[self.len], val)\n",
    "            \n",
    "        self.len += 1\n",
    "        \n",
    "    def pop(self):\n",
    "        self.stack.pop()\n",
    "        \n",
    "        del self.hashmap[self.len]      \n",
    "        \n",
    "        self.len -= 1\n",
    "        \n",
    "    def top(self):\n",
    "        return self.stack[-1]\n",
    "        \n",
    "    def getMin(self):\n",
    "        return self.hashmap[self.len] "
   ]
  },
  {
   "cell_type": "code",
   "execution_count": 87,
   "id": "c990636c-3639-423c-ac65-108fc927ad0e",
   "metadata": {},
   "outputs": [
    {
     "name": "stdout",
     "output_type": "stream",
     "text": [
      "[1, 2, 3, 4]\n",
      "[1, 2, 3]\n",
      "3\n",
      "1\n"
     ]
    }
   ],
   "source": [
    "s1 = MinStack()\n",
    "\n",
    "s1.push(1)\n",
    "s1.push(2)\n",
    "s1.push(3)\n",
    "s1.push(4)\n",
    "print(s1.stack)\n",
    "\n",
    "s1.pop()\n",
    "print(s1.stack)\n",
    "\n",
    "print(s1.top())\n",
    "print(s1.getMin())"
   ]
  },
  {
   "cell_type": "code",
   "execution_count": 123,
   "id": "9414d77a-42ec-449c-afb5-cf042c514ce7",
   "metadata": {},
   "outputs": [],
   "source": [
    "# Optimal Solution\n",
    "\n",
    "class MinStack:\n",
    "    def __init__(self):\n",
    "        self.stack = []\n",
    "        self.min_stack = [] # This stack will store the minimim value \n",
    "        \n",
    "        \n",
    "    def push(self, val: int):\n",
    "             \n",
    "        if len(self.stack) == 0:\n",
    "            self.min_stack.append(val)            \n",
    "        else:\n",
    "            new_min = min(self.min_stack[-1], val)    \n",
    "            self.min_stack.append(new_min)\n",
    "            \n",
    "        self.stack.append(val)\n",
    "        \n",
    "        \n",
    "    def pop(self):\n",
    "        self.stack.pop()\n",
    "        self.min_stack.pop()\n",
    "\n",
    "        \n",
    "    def top(self):\n",
    "        return self.stack[-1]\n",
    "        \n",
    "        \n",
    "    def getMin(self):\n",
    "        return self.min_stack[-1]"
   ]
  },
  {
   "cell_type": "code",
   "execution_count": 124,
   "id": "69f08c80-e71d-41c9-acb5-55c7739daa4d",
   "metadata": {},
   "outputs": [
    {
     "name": "stdout",
     "output_type": "stream",
     "text": [
      "[1, 2, 3, 4]\n",
      "[1, 2, 3]\n",
      "3\n",
      "1\n"
     ]
    }
   ],
   "source": [
    "s1 = MinStack()\n",
    "\n",
    "s1.push(1)\n",
    "s1.push(2)\n",
    "s1.push(3)\n",
    "s1.push(4)\n",
    "print(s1.stack)\n",
    "\n",
    "s1.pop()\n",
    "print(s1.stack)\n",
    "\n",
    "print(s1.top())\n",
    "print(s1.getMin())"
   ]
  },
  {
   "cell_type": "markdown",
   "id": "4ef544a5-a355-40dc-a0f3-e907a8cf6450",
   "metadata": {
    "tags": []
   },
   "source": [
    "### Problem 3"
   ]
  },
  {
   "cell_type": "markdown",
   "id": "80865a2c-a5cf-481a-ba86-ebb86ef54184",
   "metadata": {},
   "source": [
    "- Problem : https://leetcode.com/problems/evaluate-reverse-polish-notation/description/\n",
    "- Solution : https://youtu.be/iu0082c4HDE"
   ]
  },
  {
   "cell_type": "markdown",
   "id": "9773cb47-fb3f-4539-bbda-860ee6802cfc",
   "metadata": {},
   "source": [
    "You are given an array of strings tokens that represents an arithmetic expression in a Reverse Polish Notation.\n",
    "\n",
    "Evaluate the expression. Return an integer that represents the value of the expression.\n",
    "\n",
    "Note that:\n",
    "\n",
    "- The valid operators are '+', '-', '*', and '/'.\n",
    "- Each operand may be an integer or another expression.\n",
    "- The division between two integers always truncates toward zero.\n",
    "- There will not be any division by zero.\n",
    "- The input represents a valid arithmetic expression in a reverse polish notation.\n",
    "- The answer and all the intermediate calculations can be represented in a 32-bit integer.\n",
    " \n",
    "\n",
    "Example 1:\n",
    "\n",
    "    Input: tokens = [\"2\",\"1\",\"+\",\"3\",\"*\"]\n",
    "    Output: 9\n",
    "    Explanation: ((2 + 1) * 3) = 9\n",
    "    \n",
    "Example 2:\n",
    "\n",
    "    Input: tokens = [\"4\",\"13\",\"5\",\"/\",\"+\"]\n",
    "    Output: 6\n",
    "    Explanation: (4 + (13 / 5)) = 6\n",
    "\n",
    "Example 3:\n",
    "\n",
    "    Input: tokens = [\"10\",\"6\",\"9\",\"3\",\"+\",\"-11\",\"*\",\"/\",\"*\",\"17\",\"+\",\"5\",\"+\"]\n",
    "    Output: 22\n",
    "    Explanation: ((10 * (6 / ((9 + 3) * -11))) + 17) + 5\n",
    "    = ((10 * (6 / (12 * -11))) + 17) + 5\n",
    "    = ((10 * (6 / -132)) + 17) + 5\n",
    "    = ((10 * 0) + 17) + 5\n",
    "    = (0 + 17) + 5\n",
    "    = 17 + 5\n",
    "    = 22"
   ]
  },
  {
   "cell_type": "code",
   "execution_count": 129,
   "id": "5212efef-1a09-4e99-83ca-b57ffcafa990",
   "metadata": {},
   "outputs": [],
   "source": [
    "tokens = [\"2\",\"1\",\"+\",\"3\",\"*\"]"
   ]
  },
  {
   "cell_type": "code",
   "execution_count": 156,
   "id": "a0c4d5e3-39f5-44fc-a005-24a9922b1ac3",
   "metadata": {},
   "outputs": [],
   "source": [
    "def evalRPN(tokens):\n",
    "    stack = []\n",
    "    for n in tokens:\n",
    "        if n not in ['+', '-', '*', '/']:\n",
    "            stack.append(int(n))\n",
    "        elif n == '+':\n",
    "            a1, a2 = stack.pop(), stack.pop()\n",
    "            stack.append(a2 + a1)\n",
    "        elif n == '-':\n",
    "            a1, a2 = stack.pop(), stack.pop()\n",
    "            stack.append(a2 - a1)\n",
    "        elif n == '*':\n",
    "            a1, a2 = stack.pop(), stack.pop()\n",
    "            stack.append(a2 * a1)\n",
    "        elif n == '/':\n",
    "            a1, a2 = stack.pop(), stack.pop()\n",
    "            stack.append(int(a2 / a1))\n",
    "\n",
    "    return stack[0]"
   ]
  },
  {
   "cell_type": "code",
   "execution_count": 157,
   "id": "6f8318c3-5caf-4dfd-a080-a9bf64fb3c19",
   "metadata": {},
   "outputs": [
    {
     "data": {
      "text/plain": [
       "6"
      ]
     },
     "execution_count": 157,
     "metadata": {},
     "output_type": "execute_result"
    }
   ],
   "source": [
    "tokens = [\"4\",\"13\",\"5\",\"/\",\"+\"]\n",
    "evalRPN(tokens)"
   ]
  },
  {
   "cell_type": "code",
   "execution_count": 149,
   "id": "1668e4c5-3266-4abe-a257-c795838b0609",
   "metadata": {},
   "outputs": [
    {
     "data": {
      "text/plain": [
       "-2"
      ]
     },
     "execution_count": 149,
     "metadata": {},
     "output_type": "execute_result"
    }
   ],
   "source": [
    "int(-13/5)"
   ]
  },
  {
   "cell_type": "markdown",
   "id": "5c63f999-3af2-4477-8b4b-73d9db08cee9",
   "metadata": {},
   "source": [
    "### Problem 4"
   ]
  },
  {
   "cell_type": "markdown",
   "id": "9b46a4a7-caa1-4bde-aa8b-b92c302233ba",
   "metadata": {},
   "source": [
    "- Problem : https://leetcode.com/problems/generate-parentheses/description/\n",
    "- Solution : https://youtu.be/s9fokUqJ76A"
   ]
  },
  {
   "cell_type": "markdown",
   "id": "1813597a-1a6d-4fbe-afd3-c79628d9eaf7",
   "metadata": {},
   "source": [
    "Given n pairs of parentheses, write a function to generate all combinations of well-formed parentheses.\n",
    "\n",
    "Example 1:\n",
    "\n",
    "    Input: n = 3\n",
    "    Output: [\"((()))\",\"(()())\",\"(())()\",\"()(())\",\"()()()\"]\n",
    "    \n",
    "Example 2:\n",
    "\n",
    "    Input: n = 1\n",
    "    Output: [\"()\"]"
   ]
  },
  {
   "cell_type": "code",
   "execution_count": 158,
   "id": "0bd4b360-0f11-4d45-88f1-3c8fc10e9cbb",
   "metadata": {},
   "outputs": [],
   "source": [
    "# From Problem 1\n",
    "def isValid(s):\n",
    "    stack = []  # Space O(n)\n",
    "    CloseToOpen = {')':'('}\n",
    "    \n",
    "    for b in s: # Time O(n)\n",
    "        \n",
    "        if b in CloseToOpen.keys(): # if it is a closing bracket (right side)\n",
    "            if (len(stack)>0 and stack[-1] == CloseToOpen[b]): # check if there is a corresponding left bracket at the end of the stack\n",
    "                stack.pop() # O(1)\n",
    "            else:\n",
    "                return False\n",
    "            \n",
    "        elif b in CloseToOpen.values(): # if it is an opening bracket (left side)\n",
    "            stack.append(b)\n",
    "    \n",
    "    return True if len(stack) == 0 else False"
   ]
  },
  {
   "cell_type": "code",
   "execution_count": 159,
   "id": "5686c895-a17d-43a2-b181-77729e67ad30",
   "metadata": {},
   "outputs": [],
   "source": [
    "n = 3"
   ]
  },
  {
   "cell_type": "code",
   "execution_count": 162,
   "id": "cde3042d-c0af-44dd-a8eb-82585a86d6a5",
   "metadata": {},
   "outputs": [
    {
     "data": {
      "text/plain": [
       "'()()()'"
      ]
     },
     "execution_count": 162,
     "metadata": {},
     "output_type": "execute_result"
    }
   ],
   "source": [
    "'()'*n"
   ]
  },
  {
   "cell_type": "markdown",
   "id": "0a7b0cd3-c9e1-450d-b460-5b134e985e16",
   "metadata": {},
   "source": [
    "### Problem 5"
   ]
  },
  {
   "cell_type": "markdown",
   "id": "a3767c74-ecb0-424e-9bbb-6068c7d9e5a0",
   "metadata": {},
   "source": [
    "Given an array of integers temperatures represents the daily temperatures, return an array answer such that answer[i] is the number of days you have to wait after the ith day to get a warmer temperature. If there is no future day for which this is possible, keep answer[i] == 0 instead."
   ]
  },
  {
   "cell_type": "markdown",
   "id": "376be94b-db2f-488e-be0e-3d559d74ee29",
   "metadata": {},
   "source": [
    "Example 1:\n",
    "\n",
    "    Input: temperatures = [73,74,75,71,69,72,76,73]\n",
    "    Output: [1,1,4,2,1,1,0,0]\n",
    "\n",
    "Example 2:\n",
    "\n",
    "    Input: temperatures = [30,40,50,60]\n",
    "    Output: [1,1,1,0]\n",
    "    \n",
    "Example 3:\n",
    "\n",
    "    Input: temperatures = [30,60,90]\n",
    "    Output: [1,1,0]\n"
   ]
  },
  {
   "cell_type": "code",
   "execution_count": null,
   "id": "69ace4d3-a868-4bdb-9047-0778d052b444",
   "metadata": {},
   "outputs": [],
   "source": [
    "# brute force solution can be done using two loops \n",
    "# Time: O(n2)"
   ]
  },
  {
   "cell_type": "code",
   "execution_count": 1,
   "id": "60b41617-90ad-4e8d-9b1f-cc277069f318",
   "metadata": {},
   "outputs": [],
   "source": [
    "temperatures = [73,74,75,71,69,72,76,73]"
   ]
  },
  {
   "cell_type": "code",
   "execution_count": null,
   "id": "2833d734-888b-4fb5-8b5b-4eaa01a04a46",
   "metadata": {},
   "outputs": [],
   "source": [
    "class Solution:\n",
    "    def dailyTemperatures(self, temperatures: List[int]) -> List[int]:\n",
    "        res = [0] * len(temperatures)\n",
    "        stack = []  # pair: [temp, index]\n",
    "\n",
    "        for i, t in enumerate(temperatures):\n",
    "            while stack and t > stack[-1][0]:\n",
    "                stackT, stackInd = stack.pop()\n",
    "                res[stackInd] = i - stackInd\n",
    "            stack.append((t, i))\n",
    "        return res"
   ]
  },
  {
   "cell_type": "code",
   "execution_count": null,
   "id": "821dc27c-16c3-49d5-ab16-4ddf7561426d",
   "metadata": {},
   "outputs": [],
   "source": []
  },
  {
   "cell_type": "code",
   "execution_count": null,
   "id": "1f462113-ef8f-4068-ab46-5ba45d2e2c1a",
   "metadata": {},
   "outputs": [],
   "source": []
  },
  {
   "cell_type": "code",
   "execution_count": null,
   "id": "f1898e30-69b9-4e08-a465-09197c15f06e",
   "metadata": {},
   "outputs": [],
   "source": []
  },
  {
   "cell_type": "code",
   "execution_count": 1,
   "id": "e615e57b-ad31-4a80-af6d-bd3818429a01",
   "metadata": {},
   "outputs": [
    {
     "data": {
      "text/plain": [
       "1"
      ]
     },
     "execution_count": 1,
     "metadata": {},
     "output_type": "execute_result"
    }
   ],
   "source": [
    "5%2"
   ]
  },
  {
   "cell_type": "code",
   "execution_count": 2,
   "id": "6f38da11-80c5-41c3-835b-36b81dd58f8c",
   "metadata": {},
   "outputs": [
    {
     "data": {
      "text/plain": [
       "2.5"
      ]
     },
     "execution_count": 2,
     "metadata": {},
     "output_type": "execute_result"
    }
   ],
   "source": [
    "5/2"
   ]
  },
  {
   "cell_type": "code",
   "execution_count": 4,
   "id": "eb853430-002d-4fc6-beb7-f25131395aec",
   "metadata": {},
   "outputs": [
    {
     "data": {
      "text/plain": [
       "1"
      ]
     },
     "execution_count": 4,
     "metadata": {},
     "output_type": "execute_result"
    }
   ],
   "source": [
    "5%2"
   ]
  },
  {
   "cell_type": "code",
   "execution_count": null,
   "id": "e9b551b0-c659-45dc-9c26-b9d7b03c57c8",
   "metadata": {},
   "outputs": [],
   "source": []
  }
 ],
 "metadata": {
  "kernelspec": {
   "display_name": "Python 3 (ipykernel)",
   "language": "python",
   "name": "python3"
  },
  "language_info": {
   "codemirror_mode": {
    "name": "ipython",
    "version": 3
   },
   "file_extension": ".py",
   "mimetype": "text/x-python",
   "name": "python",
   "nbconvert_exporter": "python",
   "pygments_lexer": "ipython3",
   "version": "3.10.9"
  }
 },
 "nbformat": 4,
 "nbformat_minor": 5
}
