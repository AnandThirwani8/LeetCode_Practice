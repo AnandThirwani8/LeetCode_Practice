{
 "cells": [
  {
   "cell_type": "markdown",
   "id": "dcbef3c9-817b-4775-b9db-e147e2111126",
   "metadata": {
    "tags": []
   },
   "source": [
    "# Roadmap"
   ]
  },
  {
   "cell_type": "markdown",
   "id": "d8f2cbe0-e114-45fb-b6a6-a7d12189f16c",
   "metadata": {},
   "source": [
    "https://neetcode.io/roadmap"
   ]
  },
  {
   "cell_type": "markdown",
   "id": "feef2fd2-d734-4a33-b4fa-c9529d3299f0",
   "metadata": {},
   "source": [
    "# Arrays and Hashing"
   ]
  },
  {
   "cell_type": "markdown",
   "id": "d92cc2e6-a0a7-47ab-a0fa-13f6f43093de",
   "metadata": {
    "jp-MarkdownHeadingCollapsed": true,
    "tags": []
   },
   "source": [
    "### Problem 1"
   ]
  },
  {
   "cell_type": "markdown",
   "id": "652f05d7-228a-4ccb-bb81-ea29a030c9c1",
   "metadata": {},
   "source": [
    "- Problem : https://leetcode.com/problems/contains-duplicate/description/\n",
    "- Solution : https://youtu.be/3OamzN90kPg"
   ]
  },
  {
   "cell_type": "markdown",
   "id": "045e530a-8ff8-4307-a50c-e1b6a51eb335",
   "metadata": {},
   "source": [
    "Given an integer array nums, return true if any value appears at least twice in the array, and return false if every element is distinct."
   ]
  },
  {
   "cell_type": "code",
   "execution_count": 3,
   "id": "0ea8fd2e-d985-4926-aec1-bc8a58c133cc",
   "metadata": {},
   "outputs": [
    {
     "name": "stdout",
     "output_type": "stream",
     "text": [
      "True\n",
      "False\n"
     ]
    }
   ],
   "source": [
    "# Brute Force Solution\n",
    "# Time Complexity : O(n*n), Space Complexity : O(1)\n",
    "\n",
    "def containsDuplicate(nums):\n",
    "        s = len(nums)\n",
    "        for i in range(s):\n",
    "            for j in range(i+1, s):\n",
    "                # print(nums[i], nums[j])\n",
    "                if nums[i] == nums[j]:\n",
    "                    return True\n",
    "                else:\n",
    "                    pass\n",
    "        return False\n",
    "    \n",
    "print(containsDuplicate([1,2,3,1]))\n",
    "print(containsDuplicate([1,2,3,4]))"
   ]
  },
  {
   "cell_type": "code",
   "execution_count": 4,
   "id": "d365bb5f-c303-4321-8b19-09adcabc6c3b",
   "metadata": {},
   "outputs": [
    {
     "name": "stdout",
     "output_type": "stream",
     "text": [
      "True\n",
      "False\n"
     ]
    }
   ],
   "source": [
    "# Better Solution using sorting\n",
    "# Time Complexity : O(nlog(n)), Space Complexity : O(1)\n",
    "\n",
    "# Sorting is of order nlog(n). After that we do another pass through the entire list. This adds O(n)\n",
    "# Time Complexity = O(nlog(n)) + O(n) = O(nlog(n))\n",
    "\n",
    "def containsDuplicate(nums):\n",
    "        \n",
    "        s = len(nums)\n",
    "        \n",
    "        nums.sort()  # O(nlog(n))\n",
    "        \n",
    "        for i in range(s-1): # O(n)\n",
    "            if nums[i] == nums[i+1]:\n",
    "                return True\n",
    "            else:\n",
    "                pass      \n",
    "        return False\n",
    "    \n",
    "print(containsDuplicate([1,2,3,1]))\n",
    "print(containsDuplicate([1,2,3,4]))"
   ]
  },
  {
   "cell_type": "code",
   "execution_count": 5,
   "id": "2d00e7f8-64c1-4f6d-b1e5-18d96b4e8069",
   "metadata": {},
   "outputs": [
    {
     "name": "stdout",
     "output_type": "stream",
     "text": [
      "True\n",
      "False\n"
     ]
    }
   ],
   "source": [
    "# Optimal Solution\n",
    "# Time Complexity : O(n), Space Complexity : O(n)\n",
    "# We tradeoff space complexity for a better time complexity\n",
    "\n",
    "def containsDuplicate(nums):\n",
    "        \n",
    "    hashset = set()\n",
    "    for n in nums:\n",
    "        if n in hashset:\n",
    "            return True\n",
    "        else:\n",
    "            hashset.add(n)    \n",
    "            \n",
    "    return False\n",
    "\n",
    "print(containsDuplicate([1,2,3,1]))\n",
    "print(containsDuplicate([1,2,3,4]))"
   ]
  },
  {
   "cell_type": "markdown",
   "id": "658b50a9-eeb7-4f2d-a617-076efe4428db",
   "metadata": {
    "jp-MarkdownHeadingCollapsed": true,
    "tags": []
   },
   "source": [
    "### Problem 2"
   ]
  },
  {
   "cell_type": "markdown",
   "id": "d2ecc9ab-d6bc-4d65-94a1-b57c215f1a96",
   "metadata": {},
   "source": [
    "- Problem : https://leetcode.com/problems/valid-anagram/description/\n",
    "- Solution : https://youtu.be/9UtInBqnCgA"
   ]
  },
  {
   "cell_type": "markdown",
   "id": "7b641a98-b9fe-4cef-bfa1-96ee616454c6",
   "metadata": {},
   "source": [
    "Given two strings s and t, return true if t is an anagram of s, and false otherwise.\n",
    "\n",
    "- An Anagram is a word or phrase formed by rearranging the letters of a different word or phrase, typically using all the original letters exactly once.\n",
    "\n",
    "- Example 1:\n",
    "\n",
    "        Input: s = \"anagram\", t = \"nagaram\"\n",
    "        Output: true\n",
    "- \n",
    "\n",
    "- Example 2:\n",
    "\n",
    "        Input: s = \"rat\", t = \"car\"\n",
    "        Output: false"
   ]
  },
  {
   "cell_type": "code",
   "execution_count": 43,
   "id": "b763df7e-23ef-425e-8c78-d69c2ff5716a",
   "metadata": {},
   "outputs": [
    {
     "data": {
      "text/plain": [
       "True"
      ]
     },
     "execution_count": 43,
     "metadata": {},
     "output_type": "execute_result"
    }
   ],
   "source": [
    "# basic pythonic solution\n",
    "def isAnagram(s, t):\n",
    "    return set(list(s)) == set(list(t))\n",
    "\n",
    "t = 'nagaram'\n",
    "s = 'anagram'\n",
    "isAnagram(s, t)"
   ]
  },
  {
   "cell_type": "code",
   "execution_count": 33,
   "id": "bad031ac-f562-4a8d-b29f-54187a9f5115",
   "metadata": {},
   "outputs": [
    {
     "data": {
      "text/plain": [
       "True"
      ]
     },
     "execution_count": 33,
     "metadata": {},
     "output_type": "execute_result"
    }
   ],
   "source": [
    "# Failed example. Our code goves True but expercted solution is False\n",
    "t = 'a'\n",
    "s = 'aa'\n",
    "isAnagram(s, t)"
   ]
  },
  {
   "cell_type": "code",
   "execution_count": 49,
   "id": "2550d3e1-6dca-45ff-a354-6e808f185c5a",
   "metadata": {},
   "outputs": [
    {
     "data": {
      "text/plain": [
       "True"
      ]
     },
     "execution_count": 49,
     "metadata": {},
     "output_type": "execute_result"
    }
   ],
   "source": [
    "# Second Solution : Using dictionary (Hash Map)\n",
    "\n",
    "# Time complexity :  O(len(s) + len(t)) = O(2n) = O(n)\n",
    "# Space complexity :  O(len(s) + len(t)) = O(2n) = O(n)\n",
    "\n",
    "def isAnagram(s, t):\n",
    "    \n",
    "    if len(s) != len(t): # common sense check\n",
    "        return False\n",
    "    else:\n",
    "        d1 = {}\n",
    "        for i in s:\n",
    "            if i not in d1:\n",
    "                d1.update({i: 1})\n",
    "            elif i in d1:\n",
    "                d1[i] = d1[i] + 1\n",
    "\n",
    "        d2 = {}\n",
    "        for i in t:\n",
    "            if i not in d2:\n",
    "                d2.update({i: 1})\n",
    "            elif i in d2:\n",
    "                d2[i] = d2[i] + 1\n",
    "\n",
    "        return d1 == d2\n",
    "\n",
    "t = 'nagaram'\n",
    "s = 'anagram'\n",
    "isAnagram(s, t)"
   ]
  },
  {
   "cell_type": "code",
   "execution_count": 50,
   "id": "91e30662-5444-4764-8e1a-50b8618fd802",
   "metadata": {},
   "outputs": [
    {
     "data": {
      "text/plain": [
       "False"
      ]
     },
     "execution_count": 50,
     "metadata": {},
     "output_type": "execute_result"
    }
   ],
   "source": [
    "# Failed example got corrected\n",
    "t = 'a'\n",
    "s = 'aa'\n",
    "isAnagram(s, t)"
   ]
  },
  {
   "cell_type": "markdown",
   "id": "0605d118-3ea7-4738-9acc-1e5a168028e7",
   "metadata": {},
   "source": [
    "Can we solve this with O(1) space complexity ?"
   ]
  },
  {
   "cell_type": "code",
   "execution_count": 56,
   "id": "c7700102-5905-4a7c-9d8a-dbdbb20c8b76",
   "metadata": {},
   "outputs": [
    {
     "data": {
      "text/plain": [
       "True"
      ]
     },
     "execution_count": 56,
     "metadata": {},
     "output_type": "execute_result"
    }
   ],
   "source": [
    "# Time complexity :  O(nlog(n)). Sorting takes this much time complexity \n",
    "# Space complexity :  O(1)\n",
    "\n",
    "def isAnagram(s, t):\n",
    "        return sorted(s) == sorted(t)\n",
    "\n",
    "t = 'nagaram'\n",
    "s = 'anagram'\n",
    "isAnagram(s, t)"
   ]
  },
  {
   "cell_type": "code",
   "execution_count": 57,
   "id": "71e852db-a625-4d0b-8bb6-d76b67c51b81",
   "metadata": {},
   "outputs": [
    {
     "data": {
      "text/plain": [
       "False"
      ]
     },
     "execution_count": 57,
     "metadata": {},
     "output_type": "execute_result"
    }
   ],
   "source": [
    "t = 'a'\n",
    "s = 'aa'\n",
    "isAnagram(s, t)"
   ]
  },
  {
   "cell_type": "markdown",
   "id": "8add09e6-5be3-4d32-a3c3-5da582f87f7e",
   "metadata": {
    "tags": []
   },
   "source": [
    "### Problem 3"
   ]
  },
  {
   "cell_type": "markdown",
   "id": "d1a31e0a-2bd3-49de-9f74-310f473e4d1c",
   "metadata": {},
   "source": [
    "- Problem : https://leetcode.com/problems/two-sum/description/\n",
    "- Solution : https://youtu.be/KLlXCFG5TnA"
   ]
  },
  {
   "cell_type": "markdown",
   "id": "e38d1ad3-0452-4968-ab7b-3e2d0693aae3",
   "metadata": {},
   "source": [
    "- Given an array of integers nums and an integer target, return indices of the two numbers such that they add up to target.\n",
    "- You may assume that each input would have exactly one solution, and you may not use the same element twice. You can return the answer in any order.\n",
    "\n",
    "    - Example 1:\n",
    "\n",
    "            Input: nums = [2,7,11,15], target = 9\n",
    "            Output: [0,1]\n",
    "            Explanation: Because nums[0] + nums[1] == 9, we return [0, 1].\n",
    "\n",
    "    - Example 2:\n",
    "    \n",
    "            Input: nums = [3,2,4], target = 6\n",
    "            Output: [1,2]\n",
    "\n",
    "    - Example 3:\n",
    "    \n",
    "            Input: nums = [3,3], target = 6\n",
    "            Output: [0,1]\n"
   ]
  },
  {
   "cell_type": "code",
   "execution_count": 62,
   "id": "431e0ab7-48a0-4c0b-873b-7cb934c7ecab",
   "metadata": {},
   "outputs": [],
   "source": [
    "# Brute Force\n",
    "# Time Complexity : O(n*n) because of two loops\n",
    "\n",
    "def twoSum(nums, target):\n",
    "    for i in range(len(nums)):\n",
    "        for j in range(i+1, len(nums)):\n",
    "            if nums[i] + nums[j] == target:\n",
    "                return i, j"
   ]
  },
  {
   "cell_type": "code",
   "execution_count": 63,
   "id": "c61547a8-e660-44d2-bb83-40658419b58f",
   "metadata": {},
   "outputs": [
    {
     "data": {
      "text/plain": [
       "(0, 1)"
      ]
     },
     "execution_count": 63,
     "metadata": {},
     "output_type": "execute_result"
    }
   ],
   "source": [
    "nums = [2,7,11,15]\n",
    "target = 9\n",
    "twoSum(nums, target)"
   ]
  },
  {
   "cell_type": "code",
   "execution_count": 73,
   "id": "b083f26f-78bd-44db-9ba1-cfc7254f5580",
   "metadata": {},
   "outputs": [
    {
     "data": {
      "text/plain": [
       "(1, 0)"
      ]
     },
     "execution_count": 73,
     "metadata": {},
     "output_type": "execute_result"
    }
   ],
   "source": [
    "# Optimal method using HashMap\n",
    "# Time Complexity : O(n) because of a single pass\n",
    "# Space Complexity : O(n), used to store hashmap\n",
    "\n",
    "nums = [2,7,11,15]\n",
    "target = 9\n",
    "\n",
    "# Say, we have the above example\n",
    "# Let's say we start our single pass with '2' (the first element).\n",
    "# We just need to know if \"target-2\" i.e 7 is present in 'nums' or not \n",
    "# Similarly we need to check this for all values\n",
    "# Cool Solution. Look at the video to revise\n",
    "\n",
    "\n",
    "def twoSum(nums, target):\n",
    "    d1 = {}\n",
    "    for i in range(len(nums)):\n",
    "        if target - nums[i] in d1: # This operation is O(1)\n",
    "            return i, d1[target - nums[i]]\n",
    "        else:\n",
    "            pass\n",
    "        d1.update({nums[i]:i}) # store 'nums' in a hashmap in the format: {Value : Index}. This operation is O(1)\n",
    "        \n",
    "        \n",
    "nums = [2,7,11,15]\n",
    "target = 9\n",
    "twoSum(nums, target)"
   ]
  },
  {
   "cell_type": "markdown",
   "id": "964fb68f-29ae-45aa-8726-5f0222aed3a8",
   "metadata": {
    "jp-MarkdownHeadingCollapsed": true,
    "tags": []
   },
   "source": [
    "### Problem 4"
   ]
  },
  {
   "cell_type": "markdown",
   "id": "c08fdfd9-e226-4e31-8fb2-c18fc3429a1c",
   "metadata": {},
   "source": [
    "- Problem: https://leetcode.com/problems/group-anagrams/description/\n",
    "- Solution: https://youtu.be/vzdNOK2oB2E"
   ]
  },
  {
   "cell_type": "markdown",
   "id": "8d3a4d66-c8d0-458a-871e-07120a10d29a",
   "metadata": {},
   "source": [
    "- Given an array of strings strs, group the anagrams together. You can return the answer in any order. (strs[i] consists of lowercase English letters.)\n",
    "\n",
    "- An Anagram is a word or phrase formed by rearranging the letters of a different word or phrase, typically using all the original letters exactly once.\n",
    "\n",
    "\n",
    "- Example 1:\n",
    "\n",
    "        Input: strs = [\"eat\",\"tea\",\"tan\",\"ate\",\"nat\",\"bat\"]\n",
    "        Output: [[\"bat\"],[\"nat\",\"tan\"],[\"ate\",\"eat\",\"tea\"]]\n",
    "- Example 2:\n",
    "\n",
    "        Input: strs = [\"\"]\n",
    "        Output: [[\"\"]]\n",
    "- Example 3:\n",
    "\n",
    "        Input: strs = [\"a\"]\n",
    "        Output: [[\"a\"]]``"
   ]
  },
  {
   "cell_type": "code",
   "execution_count": 102,
   "id": "b2712e67-7dc7-48ae-8abd-7b3cb09b23a0",
   "metadata": {},
   "outputs": [
    {
     "data": {
      "text/plain": [
       "[['ate', 'tea', 'eat'], ['nat', 'tan'], ['bat']]"
      ]
     },
     "execution_count": 102,
     "metadata": {},
     "output_type": "execute_result"
    }
   ],
   "source": [
    "# Basic Solution. Works well. Look at Problem 2 above for ideas\n",
    "# Time : O(m*nlog(n)), \n",
    "# where n = average length of each string and m = number of strings in the list\n",
    "\n",
    "# Space : O(n) to store the hashmap\n",
    "\n",
    "def groupAnagrams(strs):\n",
    "    if len(strs) <= 1:\n",
    "        return [strs]\n",
    "\n",
    "    else:\n",
    "        d1 = {}\n",
    "        for s in strs:\n",
    "            sort_s = ''.join(sorted(s))\n",
    "            d1[sort_s] = [s] + d1.get(sort_s, [])\n",
    "\n",
    "        return list(d1.values())\n",
    "    \n",
    "strs = [\"eat\",\"tea\",\"tan\",\"ate\",\"nat\",\"bat\"]\n",
    "groupAnagrams(strs)"
   ]
  },
  {
   "cell_type": "code",
   "execution_count": 104,
   "id": "aeea1561-69a0-4e98-8f70-7ac778e7e4c4",
   "metadata": {},
   "outputs": [
    {
     "data": {
      "text/plain": [
       "[['']]"
      ]
     },
     "execution_count": 104,
     "metadata": {},
     "output_type": "execute_result"
    }
   ],
   "source": [
    "strs = [\"\"]\n",
    "groupAnagrams(strs)"
   ]
  },
  {
   "cell_type": "code",
   "execution_count": 108,
   "id": "ccb39847-11fa-49a5-90df-8603e3919b43",
   "metadata": {},
   "outputs": [],
   "source": [
    "# Better Solution    "
   ]
  },
  {
   "cell_type": "code",
   "execution_count": 107,
   "id": "ba0ccf15-30a5-443f-bfab-98818af2c54a",
   "metadata": {},
   "outputs": [
    {
     "data": {
      "text/plain": [
       "{'a': 1, 't': 1, 'e': 1}"
      ]
     },
     "execution_count": 107,
     "metadata": {},
     "output_type": "execute_result"
    }
   ],
   "source": [
    "# process to create hashmaps\n",
    "s = 'ate'\n",
    "h1 = {}\n",
    "for i in s:\n",
    "    h1[i] = 1 + h1.get(i, 0)\n",
    "\n",
    "h1"
   ]
  },
  {
   "cell_type": "code",
   "execution_count": 1,
   "id": "c465da9e-95bf-4187-8609-de49e2c04294",
   "metadata": {},
   "outputs": [
    {
     "name": "stdout",
     "output_type": "stream",
     "text": [
      "{'a': 1, 't': 1, 'e': 1}\n",
      "{'t': 1, 'e': 1, 'a': 1}\n"
     ]
    }
   ],
   "source": [
    "# function to create hashmaps from strings\n",
    "# Time : O(n), where n = average length of each string \n",
    "\n",
    "def creat_hashmap(s):\n",
    "    h1 = {}\n",
    "    for i in s:\n",
    "        h1[i] = 1 + h1.get(i, 0)\n",
    "    return h1\n",
    "\n",
    "s = 'ate'\n",
    "print(creat_hashmap(s))\n",
    "\n",
    "s = 'tea'\n",
    "print(creat_hashmap(s))"
   ]
  },
  {
   "cell_type": "code",
   "execution_count": 2,
   "id": "d039efe7",
   "metadata": {},
   "outputs": [
    {
     "data": {
      "text/plain": [
       "True"
      ]
     },
     "execution_count": 2,
     "metadata": {},
     "output_type": "execute_result"
    }
   ],
   "source": [
    "creat_hashmap('tea') == creat_hashmap('ate')"
   ]
  },
  {
   "cell_type": "code",
   "execution_count": 3,
   "id": "ff1a115f-579e-4da1-807a-fa65c4303f57",
   "metadata": {},
   "outputs": [
    {
     "ename": "TypeError",
     "evalue": "unhashable type: 'dict'",
     "output_type": "error",
     "traceback": [
      "\u001b[0;31m---------------------------------------------------------------------------\u001b[0m",
      "\u001b[0;31mTypeError\u001b[0m                                 Traceback (most recent call last)",
      "Cell \u001b[0;32mIn[3], line 18\u001b[0m\n\u001b[1;32m     14\u001b[0m         \u001b[38;5;28;01mreturn\u001b[39;00m \u001b[38;5;28mlist\u001b[39m(d1\u001b[38;5;241m.\u001b[39mvalues())\n\u001b[1;32m     17\u001b[0m strs \u001b[38;5;241m=\u001b[39m [\u001b[38;5;124m\"\u001b[39m\u001b[38;5;124meat\u001b[39m\u001b[38;5;124m\"\u001b[39m,\u001b[38;5;124m\"\u001b[39m\u001b[38;5;124mtea\u001b[39m\u001b[38;5;124m\"\u001b[39m,\u001b[38;5;124m\"\u001b[39m\u001b[38;5;124mtan\u001b[39m\u001b[38;5;124m\"\u001b[39m,\u001b[38;5;124m\"\u001b[39m\u001b[38;5;124mate\u001b[39m\u001b[38;5;124m\"\u001b[39m,\u001b[38;5;124m\"\u001b[39m\u001b[38;5;124mnat\u001b[39m\u001b[38;5;124m\"\u001b[39m,\u001b[38;5;124m\"\u001b[39m\u001b[38;5;124mbat\u001b[39m\u001b[38;5;124m\"\u001b[39m]\n\u001b[0;32m---> 18\u001b[0m \u001b[43mgroupAnagrams\u001b[49m\u001b[43m(\u001b[49m\u001b[43mstrs\u001b[49m\u001b[43m)\u001b[49m\n",
      "Cell \u001b[0;32mIn[3], line 12\u001b[0m, in \u001b[0;36mgroupAnagrams\u001b[0;34m(strs)\u001b[0m\n\u001b[1;32m     10\u001b[0m \u001b[38;5;28;01mfor\u001b[39;00m s \u001b[38;5;129;01min\u001b[39;00m strs: \u001b[38;5;66;03m# O(m), m = number of strings in the list\u001b[39;00m\n\u001b[1;32m     11\u001b[0m     hashmap_s \u001b[38;5;241m=\u001b[39m creat_hashmap(s)\n\u001b[0;32m---> 12\u001b[0m     d1[hashmap_s] \u001b[38;5;241m=\u001b[39m [s] \u001b[38;5;241m+\u001b[39m \u001b[43md1\u001b[49m\u001b[38;5;241;43m.\u001b[39;49m\u001b[43mget\u001b[49m\u001b[43m(\u001b[49m\u001b[43mhashmap_s\u001b[49m\u001b[43m,\u001b[49m\u001b[43m \u001b[49m\u001b[43m[\u001b[49m\u001b[43m]\u001b[49m\u001b[43m)\u001b[49m\n\u001b[1;32m     14\u001b[0m \u001b[38;5;28;01mreturn\u001b[39;00m \u001b[38;5;28mlist\u001b[39m(d1\u001b[38;5;241m.\u001b[39mvalues())\n",
      "\u001b[0;31mTypeError\u001b[0m: unhashable type: 'dict'"
     ]
    }
   ],
   "source": [
    "# Overall Time : O(n.m)\n",
    "\n",
    "def groupAnagrams(strs):\n",
    "    \n",
    "    if len(strs) <= 1:\n",
    "        return [strs]\n",
    "\n",
    "    else:\n",
    "        d1 = {}\n",
    "        for s in strs: # O(m), m = number of strings in the list\n",
    "            hashmap_s = creat_hashmap(s)\n",
    "            d1[hashmap_s] = [s] + d1.get(hashmap_s, [])\n",
    "            \n",
    "        return list(d1.values())\n",
    "    \n",
    "    \n",
    "strs = [\"eat\",\"tea\",\"tan\",\"ate\",\"nat\",\"bat\"]\n",
    "groupAnagrams(strs)"
   ]
  },
  {
   "cell_type": "code",
   "execution_count": 114,
   "id": "d6691236-ba28-485e-82ee-fd66351834a2",
   "metadata": {},
   "outputs": [],
   "source": [
    "# We cannot create dict in python which has a dict as a key\n",
    "# Therefore we will save the encoding of the strings in a different format"
   ]
  },
  {
   "cell_type": "code",
   "execution_count": 126,
   "id": "0860e42a-1489-4e35-b578-0a4390daa21c",
   "metadata": {},
   "outputs": [
    {
     "name": "stdout",
     "output_type": "stream",
     "text": [
      "(1, 0, 0, 0, 1, 0, 0, 0, 0, 0, 0, 0, 0, 0, 0, 0, 0, 0, 0, 1, 0, 0, 0, 0, 0, 0)\n",
      "(1, 0, 0, 0, 1, 0, 0, 0, 0, 0, 0, 0, 0, 0, 0, 0, 0, 0, 0, 1, 0, 0, 0, 0, 0, 0)\n"
     ]
    }
   ],
   "source": [
    "# function to create encodings from a string\n",
    "# Time : O(n), where n = average length of each string \n",
    "\n",
    "alphabet_dict = {'a': 1, 'b': 2, 'c': 3, 'd': 4, 'e': 5, 'f': 6, 'g': 7, 'h': 8, 'i': 9, 'j': 10, 'k': 11, 'l': 12, 'm': 13, 'n': 14, 'o': 15, 'p': 16, 'q': 17, 'r': 18, 's': 19, 't': 20, 'u': 21, 'v': 22, 'w': 23, 'x': 24, 'y': 25, 'z': 26}\n",
    "\n",
    "def creat_encoding(s):\n",
    "    h1 = [0]*26\n",
    "    for i in s:\n",
    "        h1[alphabet_dict[i] - 1] += 1\n",
    "    return tuple(h1)\n",
    "\n",
    "s = 'ate'\n",
    "print(creat_encoding(s))\n",
    "\n",
    "s = 'tea'\n",
    "print(creat_encoding(s))"
   ]
  },
  {
   "cell_type": "code",
   "execution_count": 127,
   "id": "289c327f-03b8-4baa-98d2-145d0354782e",
   "metadata": {},
   "outputs": [
    {
     "data": {
      "text/plain": [
       "[['ate', 'tea', 'eat'], ['nat', 'tan'], ['bat']]"
      ]
     },
     "execution_count": 127,
     "metadata": {},
     "output_type": "execute_result"
    }
   ],
   "source": [
    "# Overall Time : O(n.m)\n",
    "\n",
    "def groupAnagrams(strs):\n",
    "    \n",
    "    if len(strs) <= 1:\n",
    "        return [strs]\n",
    "\n",
    "    else:\n",
    "        d1 = {}\n",
    "        for s in strs: # O(m), m = number of strings in the list\n",
    "            encoding_s = creat_encoding(s)\n",
    "            d1[encoding_s] = [s] + d1.get(encoding_s, [])\n",
    "            \n",
    "        return list(d1.values())\n",
    "    \n",
    "    \n",
    "strs = [\"eat\",\"tea\",\"tan\",\"ate\",\"nat\",\"bat\"]\n",
    "groupAnagrams(strs)"
   ]
  },
  {
   "cell_type": "code",
   "execution_count": 131,
   "id": "5fbb81f8-d9a0-4a17-93f6-1eeffcad9228",
   "metadata": {},
   "outputs": [
    {
     "data": {
      "text/plain": [
       "[['eat', 'tea', 'ate'], ['tan', 'nat'], ['bat']]"
      ]
     },
     "execution_count": 131,
     "metadata": {},
     "output_type": "execute_result"
    }
   ],
   "source": [
    "import collections\n",
    "# Optimal Solution\n",
    "def groupAnagrams(strs):\n",
    "    ans = collections.defaultdict(list)\n",
    "\n",
    "    for s in strs:\n",
    "        count = [0] * 26\n",
    "        for c in s:\n",
    "            count[ord(c) - ord(\"a\")] += 1\n",
    "        ans[tuple(count)].append(s)\n",
    "    return list(ans.values())\n",
    "\n",
    "strs = [\"eat\",\"tea\",\"tan\",\"ate\",\"nat\",\"bat\"]\n",
    "groupAnagrams(strs)"
   ]
  },
  {
   "cell_type": "markdown",
   "id": "a20e55f5-21e9-430c-a62e-c97a68c92ea6",
   "metadata": {
    "jp-MarkdownHeadingCollapsed": true,
    "tags": []
   },
   "source": [
    "### Problem 5"
   ]
  },
  {
   "cell_type": "markdown",
   "id": "a40e101a-b3fa-4397-97f7-28cb90c65982",
   "metadata": {},
   "source": [
    "Given an integer array nums and an integer k, return the k most frequent elements. You may return the answer in any order."
   ]
  },
  {
   "cell_type": "code",
   "execution_count": null,
   "id": "06fd727a-2299-4e3b-a11b-a6b85221d6d9",
   "metadata": {},
   "outputs": [
    {
     "data": {
      "text/plain": [
       "[1, 2]"
      ]
     },
     "execution_count": 6,
     "metadata": {},
     "output_type": "execute_result"
    }
   ],
   "source": [
    "# Self Solution, Works\n",
    "def topKFrequent(nums, k):\n",
    "    h1 = {}\n",
    "    for i in nums:\n",
    "        h1[i] = 1 + h1.get(i, 0)\n",
    "\n",
    "    # return [a for (a,b) in sorted(h1.items(), key=lambda x:x[1], reverse = True)][:k]\n",
    "\n",
    "    return sorted(h1, key=h1.get, reverse=True)[:k]\n",
    "\n",
    "nums = [1,1,1,2,2,3]\n",
    "k = 2\n",
    "topKFrequent(nums, k)"
   ]
  },
  {
   "cell_type": "code",
   "execution_count": 148,
   "id": "03d0a780-5999-441c-978f-db93252732c4",
   "metadata": {},
   "outputs": [],
   "source": [
    "nums = [4,1,-1,2,-1,2,3]\n",
    "k = 2"
   ]
  },
  {
   "cell_type": "code",
   "execution_count": 142,
   "id": "0f6bd567-8e34-466e-9829-1769270a1167",
   "metadata": {},
   "outputs": [
    {
     "data": {
      "text/plain": [
       "{1: 4, 2: 4, 3: 2, 4: 1, -1: 2}"
      ]
     },
     "execution_count": 142,
     "metadata": {},
     "output_type": "execute_result"
    }
   ],
   "source": [
    "for i in nums:\n",
    "    h1[i] = 1 + h1.get(i, 0)\n",
    "h1"
   ]
  },
  {
   "cell_type": "code",
   "execution_count": 143,
   "id": "93fedfc3-bd93-43f1-9583-b4999e68936c",
   "metadata": {},
   "outputs": [
    {
     "data": {
      "text/plain": [
       "[-1, 1, 2, 3, 4]"
      ]
     },
     "execution_count": 143,
     "metadata": {},
     "output_type": "execute_result"
    }
   ],
   "source": [
    "sorted(h1)"
   ]
  },
  {
   "cell_type": "code",
   "execution_count": 147,
   "id": "356a650f-1ce0-4149-8ce6-884bf0288512",
   "metadata": {},
   "outputs": [
    {
     "data": {
      "text/plain": [
       "[1, 2, 3, -1, 4]"
      ]
     },
     "execution_count": 147,
     "metadata": {},
     "output_type": "execute_result"
    }
   ],
   "source": [
    "[a for (a,b) in sorted(h1.items(), key=lambda x:x[1], reverse = True)]"
   ]
  },
  {
   "cell_type": "code",
   "execution_count": null,
   "id": "616bab8d-ac5c-4e17-aaf5-c3490133c85b",
   "metadata": {},
   "outputs": [],
   "source": []
  },
  {
   "cell_type": "code",
   "execution_count": null,
   "id": "6c8c5003-fa0c-45be-87e3-bc44da42c0a1",
   "metadata": {},
   "outputs": [],
   "source": []
  },
  {
   "cell_type": "code",
   "execution_count": 182,
   "id": "1fade0dc-7452-4463-bf88-b7051c8d1a39",
   "metadata": {},
   "outputs": [],
   "source": [
    "# Optimal Solution involves bucket sort. Look at the solution Video, O(n)\n",
    "\n",
    "def topKFrequent(nums, k):\n",
    "    # create a hashmap to count the frequqncy of elach element, O(n)\n",
    "    h1 = {} # {ele : freq}\n",
    "    for i in nums:\n",
    "        h1[i] = 1 + h1.get(i, 0)\n",
    "        \n",
    "    l1 = len(nums)+1\n",
    "    out_arr = [[]]*l1 # create a placeholder array of length same as nums+1\n",
    "    for ele, freq in h1.items():\n",
    "        out_arr[freq] = out_arr[freq] + [ele] # add elements to the placeholder array based on their frequqncy\n",
    "        \n",
    "    # Example : if element '1' has a frequqncy of 4, then add element '1' on the fourth index\n",
    "    \n",
    "    # Now get k elements from the \"out_arr\" \n",
    "    ans = []\n",
    "    for j in range(len(out_arr)-1, 0, -1):\n",
    "        if len(ans) < k:\n",
    "            ans = ans + out_arr[j]\n",
    "\n",
    "    return ans"
   ]
  },
  {
   "cell_type": "code",
   "execution_count": 183,
   "id": "cd193df7-1115-4bc0-98c9-a41afe6a0759",
   "metadata": {},
   "outputs": [
    {
     "data": {
      "text/plain": [
       "[-1, 2]"
      ]
     },
     "execution_count": 183,
     "metadata": {},
     "output_type": "execute_result"
    }
   ],
   "source": [
    "nums = [4,1,-1,2,-1,2,3]\n",
    "k = 2\n",
    "topKFrequent(nums, k)"
   ]
  },
  {
   "cell_type": "code",
   "execution_count": 184,
   "id": "85c85ad6-75b0-4f0f-8b77-91a75871ed93",
   "metadata": {},
   "outputs": [
    {
     "data": {
      "text/plain": [
       "[1]"
      ]
     },
     "execution_count": 184,
     "metadata": {},
     "output_type": "execute_result"
    }
   ],
   "source": [
    "nums = [1]\n",
    "k = 1\n",
    "topKFrequent(nums, k)"
   ]
  },
  {
   "cell_type": "markdown",
   "id": "786a60f4-ccc6-4470-84fa-0ca2762234c5",
   "metadata": {
    "jp-MarkdownHeadingCollapsed": true,
    "tags": []
   },
   "source": [
    "### Problem 6"
   ]
  },
  {
   "cell_type": "markdown",
   "id": "a13b2c52-75a1-41d4-9404-f202ccbaff26",
   "metadata": {},
   "source": [
    "- Problem: https://leetcode.com/problems/product-of-array-except-self/description/\n",
    "- Solution: https://youtu.be/bNvIQI2wAjk"
   ]
  },
  {
   "cell_type": "markdown",
   "id": "1a32d628-8264-4028-8d47-ac33fcd648a0",
   "metadata": {},
   "source": [
    "Given an integer array nums, return an array answer such that answer[i] is equal to the product of all the elements of nums except nums[i].\n",
    "\n",
    "The product of any prefix or suffix of nums is guaranteed to fit in a 32-bit integer.\n",
    "\n",
    "You must write an algorithm that runs in O(n) time and without using the division operation."
   ]
  },
  {
   "cell_type": "markdown",
   "id": "9fb1f145-50f8-4c17-a4dc-ac0db9282534",
   "metadata": {},
   "source": [
    "- Example 1:\n",
    "\n",
    "    Input: nums = [1,2,3,4]\n",
    "    Output: [24,12,8,6]\n",
    "\n",
    "- Example 2:\n",
    "\n",
    "    Input: nums = [-1,1,0,-3,3]\n",
    "    Output: [0,0,9,0,0]"
   ]
  },
  {
   "cell_type": "code",
   "execution_count": null,
   "id": "3bca6411-7266-407a-a220-7a7ba38e491d",
   "metadata": {},
   "outputs": [],
   "source": [
    "# Video Solution, using prefix and postfix"
   ]
  },
  {
   "cell_type": "code",
   "execution_count": 185,
   "id": "7c358545-3e70-4b34-913f-e8db0c608839",
   "metadata": {},
   "outputs": [],
   "source": [
    "nums = [1,2,3,4]"
   ]
  },
  {
   "cell_type": "code",
   "execution_count": 191,
   "id": "c7320995-e0ea-4e28-ae2c-e6afbfaef210",
   "metadata": {},
   "outputs": [
    {
     "data": {
      "text/plain": [
       "[1, 1, 1, 1]"
      ]
     },
     "execution_count": 191,
     "metadata": {},
     "output_type": "execute_result"
    }
   ],
   "source": [
    "prefix_product = [1]*len(nums)\n",
    "prefix_product"
   ]
  },
  {
   "cell_type": "code",
   "execution_count": 193,
   "id": "ea3f1ff2-3298-4d4a-a68c-0a2f1fcb64bc",
   "metadata": {},
   "outputs": [
    {
     "data": {
      "text/plain": [
       "[1, 1, 2, 6]"
      ]
     },
     "execution_count": 193,
     "metadata": {},
     "output_type": "execute_result"
    }
   ],
   "source": [
    "# prefix_product[0] = 1 , product of all numbers that come before 0th digit. Default set to 1\n",
    "# prefix_product[1] = prefix_product[0]*nums[0], product of all numbers that come before 1st digit.product of nums[0] and 1\n",
    "# prefix_product[2] = prefix_product[1]*nums[1], product of all numbers that come before 2nd digit.product of nums[1] and nums[0]\n",
    "\n",
    "for i in range(1,len(prefix_product)):\n",
    "    prefix_product[i] = prefix_product[i-1]*nums[i-1]\n",
    "\n",
    "prefix_product"
   ]
  },
  {
   "cell_type": "code",
   "execution_count": 194,
   "id": "f321527f-0294-4913-a948-6c82d9dd0aad",
   "metadata": {},
   "outputs": [
    {
     "data": {
      "text/plain": [
       "[1, 1, 1, 1]"
      ]
     },
     "execution_count": 194,
     "metadata": {},
     "output_type": "execute_result"
    }
   ],
   "source": [
    "postfix_product = [1]*len(nums)\n",
    "postfix_product"
   ]
  },
  {
   "cell_type": "code",
   "execution_count": 201,
   "id": "af411478-3dc2-4c67-9995-77fd59f0f032",
   "metadata": {},
   "outputs": [
    {
     "data": {
      "text/plain": [
       "[24, 12, 4, 1]"
      ]
     },
     "execution_count": 201,
     "metadata": {},
     "output_type": "execute_result"
    }
   ],
   "source": [
    "for i in range(len(postfix_product)-2, -1, -1): # loop over the list in an onverse manner\n",
    "    postfix_product[i] = postfix_product[i+1]*nums[i+1]\n",
    "\n",
    "postfix_product"
   ]
  },
  {
   "cell_type": "code",
   "execution_count": 202,
   "id": "dbfec4f1-104a-472c-9282-52e43aa78a57",
   "metadata": {},
   "outputs": [
    {
     "data": {
      "text/plain": [
       "[24, 12, 8, 6]"
      ]
     },
     "execution_count": 202,
     "metadata": {},
     "output_type": "execute_result"
    }
   ],
   "source": [
    "[postfix_product[i]*prefix_product[i] for i in range(len(nums))]"
   ]
  },
  {
   "cell_type": "code",
   "execution_count": 203,
   "id": "06778190-99d3-4234-a621-1f49d110abff",
   "metadata": {},
   "outputs": [],
   "source": [
    "# Time, O(n)\n",
    "# Space, O(n). Space is needed to store postfix and prefix. This can be reduces. Look at the video solution\n",
    "\n",
    "def productExceptSelf(nums):\n",
    "    prefix_product = [1]*len(nums)\n",
    "    postfix_product = [1]*len(nums)\n",
    "\n",
    "    for i in range(1,len(prefix_product)):\n",
    "        prefix_product[i] = prefix_product[i-1]*nums[i-1]\n",
    "\n",
    "    for i in range(len(postfix_product)-2, -1, -1): # loop over the list in an onverse manner\n",
    "        postfix_product[i] = postfix_product[i+1]*nums[i+1]\n",
    "\n",
    "    return [postfix_product[i]*prefix_product[i] for i in range(len(nums))]"
   ]
  },
  {
   "cell_type": "code",
   "execution_count": 204,
   "id": "7de60830-59c4-4178-ba71-0557f7f02592",
   "metadata": {},
   "outputs": [
    {
     "data": {
      "text/plain": [
       "[24, 12, 8, 6]"
      ]
     },
     "execution_count": 204,
     "metadata": {},
     "output_type": "execute_result"
    }
   ],
   "source": [
    "nums = [1,2,3,4]\n",
    "productExceptSelf(nums)"
   ]
  },
  {
   "cell_type": "markdown",
   "id": "4314c5c3-34e5-4f4c-9837-a7b9f6e3d497",
   "metadata": {
    "jp-MarkdownHeadingCollapsed": true,
    "tags": []
   },
   "source": [
    "### Problem 7"
   ]
  },
  {
   "cell_type": "markdown",
   "id": "f8b9f63c-f290-4339-bccf-c71e1186473f",
   "metadata": {},
   "source": [
    "Determine if a 9 x 9 Sudoku board is valid. Only the filled cells need to be validated according to the following rules:\n",
    "\n",
    "- Each row must contain the digits 1-9 without repetition.\n",
    "- Each column must contain the digits 1-9 without repetition.\n",
    "- Each of the nine 3 x 3 sub-boxes of the grid must contain the digits 1-9 without repetition.\n",
    "Note:\n",
    "\n",
    "A Sudoku board (partially filled) could be valid but is not necessarily solvable.\n",
    "Only the filled cells need to be validated according to the mentioned rules."
   ]
  },
  {
   "cell_type": "markdown",
   "id": "6c9dde8a-3b9b-4c00-ad1f-d8ab340b5bdc",
   "metadata": {},
   "source": [
    "- Problem : https://leetcode.com/problems/valid-sudoku/description/\n",
    "- Solution : https://youtu.be/TjFXEUCMqI8"
   ]
  },
  {
   "cell_type": "code",
   "execution_count": 226,
   "id": "7218095e-50df-4055-abae-2929febab677",
   "metadata": {},
   "outputs": [
    {
     "name": "stdout",
     "output_type": "stream",
     "text": [
      "No Duplicate\n",
      "Duplicate\n"
     ]
    }
   ],
   "source": [
    "# We need to use this below concept\n",
    "# Time, O(n)\n",
    "# Space, O(n)\n",
    "\n",
    "def detect_duplicate(arr):\n",
    "    hashset = set()\n",
    "    for i in arr: # O(n)\n",
    "        if i in hashset: # O(1)\n",
    "            return 'Duplicate'\n",
    "        else:\n",
    "            hashset.add(i) # O(1)\n",
    "            \n",
    "    return 'No Duplicate'\n",
    "\n",
    "print(detect_duplicate([1,2,3]))\n",
    "print(detect_duplicate([1,2,3,1]))"
   ]
  },
  {
   "cell_type": "code",
   "execution_count": null,
   "id": "339e0adb-dd82-44b4-9f3d-b8f762fb52a3",
   "metadata": {},
   "outputs": [],
   "source": [
    "board = [[\"5\",\"3\",\".\",\".\",\"7\",\".\",\".\",\".\",\".\"]\n",
    ",[\"6\",\".\",\".\",\"1\",\"9\",\"5\",\".\",\".\",\".\"]\n",
    ",[\".\",\"9\",\"8\",\".\",\".\",\".\",\".\",\"6\",\".\"]\n",
    ",[\"8\",\".\",\".\",\".\",\"6\",\".\",\".\",\".\",\"3\"]\n",
    ",[\"4\",\".\",\".\",\"8\",\".\",\"3\",\".\",\".\",\"1\"]\n",
    ",[\"7\",\".\",\".\",\".\",\"2\",\".\",\".\",\".\",\"6\"]\n",
    ",[\".\",\"6\",\".\",\".\",\".\",\".\",\"2\",\"8\",\".\"]\n",
    ",[\".\",\".\",\".\",\"4\",\"1\",\"9\",\".\",\".\",\"5\"]\n",
    ",[\".\",\".\",\".\",\".\",\"8\",\".\",\".\",\"7\",\"9\"]]"
   ]
  },
  {
   "cell_type": "code",
   "execution_count": 222,
   "id": "55a7622e-ab20-47f8-9ac0-9dfefd4dc68a",
   "metadata": {},
   "outputs": [
    {
     "name": "stdout",
     "output_type": "stream",
     "text": [
      "True\n"
     ]
    }
   ],
   "source": [
    "cols = collections.defaultdict(set)\n",
    "rows = collections.defaultdict(set)\n",
    "squares = collections.defaultdict(set) # key : (r//3, c//3)\n",
    "\n",
    "# Loop over the board\n",
    "for r in range(9): # loop over rows\n",
    "    for c in range(9): # loop over columns\n",
    "        if board[r][c] == '.': # check if a position is empty\n",
    "            continue\n",
    "        if (board[r][c] in rows[r] or board[r][c] in cols[c] or board[r][c] in squares[r//3,c//3]):\n",
    "            print(False) # Duplicate Found, Hence not a valid anagram\n",
    "        else:\n",
    "            rows[r].add(board[r][c])\n",
    "            cols[c].add(board[r][c])\n",
    "            squares[r//3,c//3].add(board[r][c])\n",
    "            \n",
    "print(True)"
   ]
  },
  {
   "cell_type": "code",
   "execution_count": 223,
   "id": "31760f1e-b882-466d-8da7-8ca1073a4b98",
   "metadata": {},
   "outputs": [
    {
     "data": {
      "text/plain": [
       "defaultdict(set,\n",
       "            {0: {'4', '5', '6', '7', '8'},\n",
       "             1: {'3', '6', '9'},\n",
       "             4: {'1', '2', '6', '7', '8', '9'},\n",
       "             3: {'1', '4', '8'},\n",
       "             5: {'3', '5', '9'},\n",
       "             2: {'8'},\n",
       "             7: {'6', '7', '8'},\n",
       "             8: {'1', '3', '5', '6', '9'},\n",
       "             6: {'2'}})"
      ]
     },
     "execution_count": 223,
     "metadata": {},
     "output_type": "execute_result"
    }
   ],
   "source": [
    "cols"
   ]
  },
  {
   "cell_type": "code",
   "execution_count": 224,
   "id": "de24de6a-c5cb-42ad-babc-66601a0092cc",
   "metadata": {},
   "outputs": [
    {
     "data": {
      "text/plain": [
       "defaultdict(set,\n",
       "            {0: {'3', '5', '7'},\n",
       "             1: {'1', '5', '6', '9'},\n",
       "             2: {'6', '8', '9'},\n",
       "             3: {'3', '6', '8'},\n",
       "             4: {'1', '3', '4', '8'},\n",
       "             5: {'2', '6', '7'},\n",
       "             6: {'2', '6', '8'},\n",
       "             7: {'1', '4', '5', '9'},\n",
       "             8: {'7', '8', '9'}})"
      ]
     },
     "execution_count": 224,
     "metadata": {},
     "output_type": "execute_result"
    }
   ],
   "source": [
    "rows"
   ]
  },
  {
   "cell_type": "code",
   "execution_count": 225,
   "id": "63a8433e-48f9-432e-be48-1ee8c56b7f11",
   "metadata": {},
   "outputs": [
    {
     "data": {
      "text/plain": [
       "defaultdict(set,\n",
       "            {(0, 0): {'3', '5', '6', '8', '9'},\n",
       "             (0, 1): {'1', '5', '7', '9'},\n",
       "             (0, 2): {'6'},\n",
       "             (1, 0): {'4', '7', '8'},\n",
       "             (1, 1): {'2', '3', '6', '8'},\n",
       "             (1, 2): {'1', '3', '6'},\n",
       "             (2, 0): {'6'},\n",
       "             (2, 2): {'2', '5', '7', '8', '9'},\n",
       "             (2, 1): {'1', '4', '8', '9'}})"
      ]
     },
     "execution_count": 225,
     "metadata": {},
     "output_type": "execute_result"
    }
   ],
   "source": [
    "squares"
   ]
  },
  {
   "cell_type": "markdown",
   "id": "6c5a4943-ad3f-4179-a00c-3f46bcdada24",
   "metadata": {},
   "source": [
    "### Problem 9"
   ]
  },
  {
   "cell_type": "markdown",
   "id": "9bfcf15e-adbd-49c1-8476-c39b3159440b",
   "metadata": {},
   "source": [
    "Given an unsorted array of integers nums, return the length of the longest consecutive elements sequence.\n",
    "\n",
    "You must write an algorithm that runs in O(n) time."
   ]
  },
  {
   "cell_type": "markdown",
   "id": "8b526e18-39c6-41f0-b3c2-e7d6df9a3071",
   "metadata": {},
   "source": [
    "- Problem : https://leetcode.com/problems/longest-consecutive-sequence/description/\n",
    "- Solution : https://youtu.be/P6RZZMu_maU"
   ]
  },
  {
   "cell_type": "markdown",
   "id": "2e5291e4-8837-4d1b-b788-a9611ff62773",
   "metadata": {},
   "source": [
    "Example 1:\n",
    "\n",
    "    Input: nums = [100,4,200,1,3,2]\n",
    "    Output: 4\n",
    "    Explanation: The longest consecutive elements sequence is [1, 2, 3, 4]. Therefore its length is 4.\n",
    "\n",
    "Example 2:\n",
    "\n",
    "    Input: nums = [0,3,7,2,5,8,4,6,0,1]\n",
    "    Output: 9"
   ]
  },
  {
   "cell_type": "code",
   "execution_count": 234,
   "id": "801ee5e8-0367-4d30-8082-278b9ef9d37b",
   "metadata": {},
   "outputs": [
    {
     "data": {
      "text/plain": [
       "[1, 2, 3, 4, 100, 200]"
      ]
     },
     "execution_count": 234,
     "metadata": {},
     "output_type": "execute_result"
    }
   ],
   "source": [
    "a = [100,4,200,1,3,2]\n",
    "a = sorted(a) # O(nlogn)\n",
    "a"
   ]
  },
  {
   "cell_type": "code",
   "execution_count": 260,
   "id": "6221f969-af2a-42ce-88fd-db96efabd3b7",
   "metadata": {},
   "outputs": [
    {
     "name": "stdout",
     "output_type": "stream",
     "text": [
      "4\n",
      "9\n",
      "0\n"
     ]
    }
   ],
   "source": [
    "# Self SOlution. Uses Sorting. O(nlogn)\n",
    "def longestConsecutive(nums):\n",
    "    \n",
    "    if len(nums) == 0:\n",
    "        return 0\n",
    "    \n",
    "    else:\n",
    "    \n",
    "        nums = sorted(nums) # O(nlogn)\n",
    "\n",
    "        max_counter = 1\n",
    "        counter = 1\n",
    "        for i in range(1,len(nums)): # O(n)\n",
    "            if nums[i] - nums[i-1] == 1:\n",
    "                counter+=1\n",
    "            elif nums[i] - nums[i-1] == 0:\n",
    "                pass\n",
    "            else:\n",
    "                if counter > max_counter:\n",
    "                    max_counter = counter\n",
    "                counter = 1\n",
    "            # print(i, nums[i] , counter, max_counter)\n",
    "\n",
    "        return max(max_counter, counter)\n",
    "\n",
    "\n",
    "print(longestConsecutive([100,4,200,1,3,2]))\n",
    "print(longestConsecutive([0,3,7,2,5,8,4,6,0,1]))\n",
    "print(longestConsecutive([]))"
   ]
  },
  {
   "cell_type": "code",
   "execution_count": 261,
   "id": "6e516fe1-ce36-4d61-854f-e0c12860b8fa",
   "metadata": {},
   "outputs": [
    {
     "data": {
      "text/plain": [
       "[-1, -1, 0, 1, 3, 4, 5, 6, 7, 8, 9]"
      ]
     },
     "execution_count": 261,
     "metadata": {},
     "output_type": "execute_result"
    }
   ],
   "source": [
    "nums = [9,1,4,7,3,-1,0,5,8,-1,6]\n",
    "sorted(nums)"
   ]
  },
  {
   "cell_type": "code",
   "execution_count": 262,
   "id": "7ef48f3e-5336-465f-866a-0d13b6acb8bb",
   "metadata": {},
   "outputs": [
    {
     "data": {
      "text/plain": [
       "7"
      ]
     },
     "execution_count": 262,
     "metadata": {},
     "output_type": "execute_result"
    }
   ],
   "source": [
    "longestConsecutive(nums) "
   ]
  },
  {
   "cell_type": "markdown",
   "id": "0d4af77c-2388-4161-9651-c6899cf6eb29",
   "metadata": {},
   "source": [
    "Optimal Solution"
   ]
  },
  {
   "cell_type": "code",
   "execution_count": 264,
   "id": "e3721627-2026-4be7-9fea-feb24bd419a6",
   "metadata": {},
   "outputs": [],
   "source": [
    "nums = [9,1,4,7,3,-1,0,5,8,-1,6]\n",
    "num_set = set(nums)"
   ]
  },
  {
   "cell_type": "code",
   "execution_count": 279,
   "id": "c41b4b3c-44ed-48c9-b2e1-e7462be2b510",
   "metadata": {},
   "outputs": [
    {
     "name": "stdout",
     "output_type": "stream",
     "text": [
      "4\n",
      "9\n",
      "0\n",
      "7\n"
     ]
    }
   ],
   "source": [
    "# Time : O(n), Space : O(n)\n",
    "\n",
    "def longestConsecutive(nums):\n",
    "    \n",
    "    if len(nums) == 0:\n",
    "        return 0\n",
    "    \n",
    "    else:\n",
    "    \n",
    "        max_counter = 1\n",
    "        num_set = set(nums)\n",
    "        for n in num_set:\n",
    "            # If the previous (n-1) of any number does not exist in the num_set then that number is the start of a sequence\n",
    "            if n-1 not in num_set:\n",
    "                counter = 1\n",
    "                while n+counter in num_set:\n",
    "                    counter+=1\n",
    "\n",
    "                max_counter = max(max_counter, counter)\n",
    "\n",
    "        return max_counter\n",
    "\n",
    "    \n",
    "print(longestConsecutive([100,4,200,1,3,2]))\n",
    "print(longestConsecutive([0,3,7,2,5,8,4,6,0,1]))\n",
    "print(longestConsecutive([]))\n",
    "print(longestConsecutive([9,1,4,7,3,-1,0,5,8,-1,6]))"
   ]
  },
  {
   "cell_type": "code",
   "execution_count": null,
   "id": "49892b28-5e17-46d3-9fd6-d64376711250",
   "metadata": {},
   "outputs": [],
   "source": []
  }
 ],
 "metadata": {
  "kernelspec": {
   "display_name": "Python 3",
   "language": "python",
   "name": "python3"
  },
  "language_info": {
   "codemirror_mode": {
    "name": "ipython",
    "version": 3
   },
   "file_extension": ".py",
   "mimetype": "text/x-python",
   "name": "python",
   "nbconvert_exporter": "python",
   "pygments_lexer": "ipython3",
   "version": "3.10.0"
  }
 },
 "nbformat": 4,
 "nbformat_minor": 5
}
