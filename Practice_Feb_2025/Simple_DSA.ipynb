{
 "cells": [
  {
   "cell_type": "code",
   "execution_count": null,
   "metadata": {},
   "outputs": [],
   "source": [
    "import numpy as np"
   ]
  },
  {
   "cell_type": "code",
   "execution_count": null,
   "metadata": {},
   "outputs": [
    {
     "name": "stdout",
     "output_type": "stream",
     "text": [
      "[1, 2, 3, 5]\n"
     ]
    }
   ],
   "source": [
    "# Basic Functions\n",
    "l1 = [3,5,1,2]\n",
    "l1.sort() # gives no output, but l1 is sorted\n",
    "print(l1)"
   ]
  },
  {
   "cell_type": "code",
   "execution_count": null,
   "metadata": {},
   "outputs": [
    {
     "name": "stdout",
     "output_type": "stream",
     "text": [
      "[1, 2, 3, 5]\n"
     ]
    }
   ],
   "source": [
    "l1 = [3,5,1,2]\n",
    "l2 = sorted(l1) # sorts l1 and saves into another variable\n",
    "print(l2)"
   ]
  },
  {
   "cell_type": "code",
   "execution_count": 7,
   "metadata": {},
   "outputs": [
    {
     "name": "stdout",
     "output_type": "stream",
     "text": [
      "{3, 4, 5}\n",
      "{3, 5}\n"
     ]
    }
   ],
   "source": [
    "hashset = set()\n",
    "hashset.add(5)\n",
    "hashset.add(4)\n",
    "hashset.add(3)\n",
    "print(hashset)\n",
    "\n",
    "hashset.remove(4)\n",
    "print(hashset)"
   ]
  },
  {
   "cell_type": "code",
   "execution_count": 8,
   "metadata": {},
   "outputs": [
    {
     "data": {
      "text/plain": [
       "{'K': 1}"
      ]
     },
     "execution_count": 8,
     "metadata": {},
     "output_type": "execute_result"
    }
   ],
   "source": [
    "d1 = {} # hashmap\n",
    "d1.update({'K': 1})\n",
    "d1"
   ]
  },
  {
   "cell_type": "code",
   "execution_count": 9,
   "metadata": {},
   "outputs": [
    {
     "data": {
      "text/plain": [
       "{'K': 1}"
      ]
     },
     "execution_count": 9,
     "metadata": {},
     "output_type": "execute_result"
    }
   ],
   "source": [
    "d1 = {} # hashmap\n",
    "d1['K'] = 1\n",
    "d1"
   ]
  },
  {
   "cell_type": "code",
   "execution_count": null,
   "metadata": {},
   "outputs": [
    {
     "name": "stdout",
     "output_type": "stream",
     "text": [
      "1\n",
      "-1\n"
     ]
    }
   ],
   "source": [
    "print(d1.get('K', -1))\n",
    "print(d1.get('Q', -1)) # if the key you are searching for is not availaible, then return -1"
   ]
  },
  {
   "cell_type": "code",
   "execution_count": 13,
   "metadata": {},
   "outputs": [
    {
     "data": {
      "text/plain": [
       "{'A': 4, 'B': 2, 'C': 2, 'D': 1}"
      ]
     },
     "execution_count": 13,
     "metadata": {},
     "output_type": "execute_result"
    }
   ],
   "source": [
    "# create a hashmap to count the frequqncy of elach element, O(n)\n",
    "# nums is a lits\n",
    "\n",
    "def counting(nums):\n",
    "    h1 = {} # {ele : freq}\n",
    "    for ele in nums:\n",
    "        h1[ele] = 1 + h1.get(ele, 0)\n",
    "    return h1\n",
    "\n",
    "nums = ['A', 'B', 'C', 'A', 'B', 'C', 'D', 'A', 'A']\n",
    "counting(nums)"
   ]
  },
  {
   "cell_type": "code",
   "execution_count": 16,
   "metadata": {},
   "outputs": [
    {
     "name": "stdout",
     "output_type": "stream",
     "text": [
      "2 + 7 = 9\n",
      "25 + 75 = 100\n"
     ]
    }
   ],
   "source": [
    "def twoSum(numbers, target):\n",
    "    l = 0\n",
    "    r = len(numbers) - 1\n",
    "    while l < r:\n",
    "        # print(numbers[l], numbers[r])\n",
    "        if numbers[l] + numbers[r] == target:\n",
    "            return f\"{numbers[l]} + {numbers[r]} = {target}\"\n",
    "        elif numbers[l] + numbers[r] > target:\n",
    "            r -= 1\n",
    "        else:\n",
    "            l +=1\n",
    "        \n",
    "numbers = [2,7,11,15]\n",
    "target = 9\n",
    "print(twoSum(numbers, target))\n",
    "\n",
    "numbers = [5,25,75]\n",
    "target = 100\n",
    "print(twoSum(numbers, target))"
   ]
  },
  {
   "cell_type": "code",
   "execution_count": 19,
   "metadata": {},
   "outputs": [
    {
     "name": "stdout",
     "output_type": "stream",
     "text": [
      "2 + 7 = 9\n",
      "25 + 75 = 100\n"
     ]
    }
   ],
   "source": [
    "def twosum_brute(numbers, target):\n",
    "    for i in range(len(numbers)):\n",
    "        for j in range(len(numbers)):\n",
    "            if numbers[i] + numbers[j] == target:\n",
    "                return f\"{numbers[i]} + {numbers[j]} = {target}\"\n",
    "            \n",
    "numbers = [2,7,11,15]\n",
    "target = 9\n",
    "print(twosum_brute(numbers, target))\n",
    "\n",
    "numbers = [5,25,75]\n",
    "target = 100\n",
    "print(twosum_brute(numbers, target))"
   ]
  },
  {
   "cell_type": "code",
   "execution_count": null,
   "metadata": {},
   "outputs": [],
   "source": []
  }
 ],
 "metadata": {
  "kernelspec": {
   "display_name": "Python 3",
   "language": "python",
   "name": "python3"
  },
  "language_info": {
   "codemirror_mode": {
    "name": "ipython",
    "version": 3
   },
   "file_extension": ".py",
   "mimetype": "text/x-python",
   "name": "python",
   "nbconvert_exporter": "python",
   "pygments_lexer": "ipython3",
   "version": "3.10.0"
  }
 },
 "nbformat": 4,
 "nbformat_minor": 2
}
