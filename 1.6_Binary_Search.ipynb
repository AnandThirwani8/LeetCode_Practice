{
 "cells": [
  {
   "cell_type": "markdown",
   "id": "d9df971c-51fa-41b6-858e-c478a653a072",
   "metadata": {
    "tags": []
   },
   "source": [
    "# 704. Binary Search"
   ]
  },
  {
   "cell_type": "markdown",
   "id": "88196d57-a28a-4c9d-92cd-12ad93009a41",
   "metadata": {},
   "source": [
    "https://leetcode.com/problems/binary-search/description/"
   ]
  },
  {
   "cell_type": "code",
   "execution_count": 1,
   "id": "4a6bd72d-c0db-4add-8be3-9b257d6f05c9",
   "metadata": {},
   "outputs": [],
   "source": [
    "nums = [-1,0,3,5,9,12]\n",
    "target = 9\n",
    "# All the integers in nums are unique.\n",
    "# nums is sorted in ascending order.\n",
    "\n",
    "# Output: 4\n",
    "# Explanation: 9 exists in nums and its index is 4"
   ]
  },
  {
   "cell_type": "code",
   "execution_count": null,
   "id": "e9ba7b6e-1b30-4db9-af03-e66f75445d4e",
   "metadata": {},
   "outputs": [],
   "source": [
    "# O(n) Time Solution, basic brute force"
   ]
  },
  {
   "cell_type": "code",
   "execution_count": null,
   "id": "9cb8914a-5408-4e01-9965-a5b819b1b122",
   "metadata": {},
   "outputs": [],
   "source": [
    "def bforce(nums, target):\n",
    "    for i in range(len(nums)):\n",
    "        if nums[i] == target:\n",
    "            return i\n",
    "    return -1\n",
    "\n",
    "print(bforce(nums, 9))\n",
    "print(bforce(nums, 20))"
   ]
  },
  {
   "cell_type": "markdown",
   "id": "12108bac-574a-4640-bc59-c64a0283584e",
   "metadata": {},
   "source": [
    "#### Why does binary search run at time complexity of O(logn) ?"
   ]
  },
  {
   "cell_type": "code",
   "execution_count": null,
   "id": "2ece27d9-0623-49d3-98e5-43f60b0b15a5",
   "metadata": {},
   "outputs": [],
   "source": [
    "# Because every time we divide the array into half."
   ]
  },
  {
   "cell_type": "markdown",
   "id": "fc8ad150-ada4-48cb-a8ab-9e7087298070",
   "metadata": {},
   "source": [
    "#### Optimal Solution"
   ]
  },
  {
   "cell_type": "code",
   "execution_count": null,
   "id": "43cefcd7-11c0-469d-90e0-c67b9e4e3192",
   "metadata": {},
   "outputs": [],
   "source": [
    "def binary_search(nums, target):\n",
    "    l, r = 0, len(nums)-1\n",
    "    while l<=r:\n",
    "        m = (l+r)//2\n",
    "        if nums[m] > target:\n",
    "            r = m-1\n",
    "        elif nums[m] < target:\n",
    "            l = m+1\n",
    "        elif nums[m] == target: \n",
    "            return m\n",
    "    return -1"
   ]
  },
  {
   "cell_type": "code",
   "execution_count": null,
   "id": "9630c0a9-5193-4b82-ba6e-a0e6971df908",
   "metadata": {},
   "outputs": [],
   "source": [
    "binary_search(nums, 20)"
   ]
  },
  {
   "cell_type": "code",
   "execution_count": null,
   "id": "51890d64-369d-447b-8b36-b777e78d3096",
   "metadata": {},
   "outputs": [],
   "source": [
    "nums = [1]\n",
    "target = 1\n",
    "binary_search(nums, target)"
   ]
  },
  {
   "cell_type": "markdown",
   "id": "b74601b2-c525-4997-9d1b-2d88c60b864e",
   "metadata": {
    "tags": []
   },
   "source": [
    "# 74. Search 2D Matrix"
   ]
  },
  {
   "cell_type": "markdown",
   "id": "f3924c7c-d485-4667-8def-c257bbbecd44",
   "metadata": {},
   "source": [
    "https://leetcode.com/problems/search-a-2d-matrix/description/"
   ]
  },
  {
   "cell_type": "code",
   "execution_count": null,
   "id": "3e6e366a-328a-4bce-bf70-db267f854d53",
   "metadata": {},
   "outputs": [],
   "source": [
    "# bforce solution, we are doing binary search for each row.\n",
    "# Time : O(m*logn)"
   ]
  },
  {
   "cell_type": "code",
   "execution_count": null,
   "id": "1843ca5b-ea9b-4862-94b4-e434d17f800c",
   "metadata": {},
   "outputs": [],
   "source": [
    "matrix = [[1,3,5,7],[10,11,16,20],[23,30,34,60]]\n",
    "target = 3"
   ]
  },
  {
   "cell_type": "code",
   "execution_count": null,
   "id": "7ddc79e3-8a40-48e0-b3ed-2d0d639ad67f",
   "metadata": {},
   "outputs": [],
   "source": [
    "def binary_search(nums, target):\n",
    "    l, r = 0, len(nums)-1\n",
    "    while l<=r:\n",
    "        m = (l+r)//2\n",
    "        if nums[m] < target:\n",
    "            l = m+1\n",
    "        elif nums[m] > target:\n",
    "            r = m-1\n",
    "        else:\n",
    "            return True\n",
    "    return False\n",
    "\n",
    "def binary_search_matrix(matrix, target):\n",
    "    for row in matrix:\n",
    "        if binary_search(row, target):\n",
    "            return True\n",
    "    return False"
   ]
  },
  {
   "cell_type": "code",
   "execution_count": null,
   "id": "b397ad26-d1f8-438d-b9fc-6b21e542e49c",
   "metadata": {},
   "outputs": [],
   "source": [
    "print(binary_search_matrix(matrix, 3))\n",
    "print(binary_search_matrix(matrix, 13))"
   ]
  },
  {
   "cell_type": "markdown",
   "id": "bf9bd772-9039-4ec1-9040-845de6bd9877",
   "metadata": {},
   "source": [
    "#### Optimal Solution"
   ]
  },
  {
   "cell_type": "code",
   "execution_count": 1,
   "id": "ab2cb9c2-1ae6-4715-a29b-363288c238bc",
   "metadata": {},
   "outputs": [],
   "source": [
    "matrix = [[1,3,5,7],[10,11,16,20],[23,30,34,60]]\n",
    "target = 3"
   ]
  },
  {
   "cell_type": "code",
   "execution_count": 21,
   "id": "3764e35f-dde5-4bdb-b536-526474b1562e",
   "metadata": {},
   "outputs": [],
   "source": [
    "def binary_search_matrix_row(matrix, target):\n",
    "    ROWS = len(matrix) # number of rows of the matrix\n",
    "    COLUMNS = len(matrix[0]) # number of rows of the matrix\n",
    "\n",
    "    top_row, bottom_row = 0, ROWS-1\n",
    "    while top_row <= bottom_row:\n",
    "        mid = (top_row + bottom_row)//2\n",
    "        \n",
    "        if target < matrix[mid][0]:\n",
    "            bottom_row = mid -1\n",
    "            \n",
    "        elif target > matrix[mid][-1]:\n",
    "            top_row = mid + 1\n",
    "            \n",
    "        elif (target >= matrix[mid][0]) and (target <= matrix[mid][-1]):\n",
    "            return mid # Find the optimal row\n",
    "    return -1\n",
    "\n",
    "\n",
    "def binary_search(nums, target):\n",
    "    l, r = 0, len(nums)-1\n",
    "    while l<=r:\n",
    "        m = (l+r)//2\n",
    "        if nums[m] < target:\n",
    "            l = m+1\n",
    "        elif nums[m] > target:\n",
    "            r = m-1\n",
    "        else:\n",
    "            return True\n",
    "    return False\n",
    "\n",
    "def searchMatrix(matrix, target):\n",
    "    optimal_row = binary_search_matrix_row(matrix, target)\n",
    "    if optimal_row != -1:\n",
    "        return binary_search(matrix[optimal_row], target)\n",
    "    else:\n",
    "        return False"
   ]
  },
  {
   "cell_type": "code",
   "execution_count": 22,
   "id": "2869e3ae-dbec-4504-bbc6-45fbabb857fb",
   "metadata": {},
   "outputs": [
    {
     "name": "stdout",
     "output_type": "stream",
     "text": [
      "True\n",
      "False\n"
     ]
    }
   ],
   "source": [
    "print(searchMatrix(matrix, 3))\n",
    "print(searchMatrix(matrix, 13))"
   ]
  },
  {
   "cell_type": "markdown",
   "id": "3250f9bb-5679-4007-add5-a2664f82ba41",
   "metadata": {
    "jp-MarkdownHeadingCollapsed": true,
    "tags": []
   },
   "source": [
    "# 875. Koko Eating Bananas"
   ]
  },
  {
   "cell_type": "markdown",
   "id": "ebc71b90-7009-4fcc-bceb-33c42e7de48f",
   "metadata": {},
   "source": [
    "https://leetcode.com/problems/koko-eating-bananas/description/"
   ]
  },
  {
   "cell_type": "code",
   "execution_count": 23,
   "id": "b79120e0-fac3-404c-a440-7cabbc2ddaf1",
   "metadata": {},
   "outputs": [],
   "source": [
    "piles = [3,6,7,11]\n",
    "h = 8"
   ]
  },
  {
   "cell_type": "code",
   "execution_count": null,
   "id": "fb97e29d-2fe5-44a7-8bb4-11673b5a3faf",
   "metadata": {},
   "outputs": [],
   "source": [
    "# say k = 1\n",
    "# first pile of 3 bananas can be finishes in 3/1 hours\n",
    "# .\n",
    "# .\n",
    "# last pile of 11 bananas can be finishes in 11/1 hours\n",
    "\n",
    "\n",
    "# say k = 2\n",
    "# first pile of 3 bananas can be finishes in math.ceil(3/2) hours\n",
    "# .\n",
    "# .\n",
    "# last pile of 11 bananas can be finishes in math.ceil(3/2) hours\n",
    "\n",
    "\n",
    "#  we only have to check till k = 11.\n",
    "# if k = max(pile[i]), we can eat all bananas in len(piles) hours"
   ]
  },
  {
   "cell_type": "code",
   "execution_count": 32,
   "id": "cabec7de-e5fa-4316-bfb2-b251bedc9003",
   "metadata": {},
   "outputs": [
    {
     "name": "stdout",
     "output_type": "stream",
     "text": [
      "4\n"
     ]
    }
   ],
   "source": [
    "# brute force. check for all k between 1 and 11\n",
    "# Time O(max(pile[i]) * len(piles)), Two loops\n",
    "\n",
    "for k in range(1, 12):\n",
    "    hours_taken = 0\n",
    "    for p in piles:\n",
    "        hours_taken += math.ceil(p/k)\n",
    "    if hours_taken <= h:\n",
    "        print(k)\n",
    "        break"
   ]
  },
  {
   "cell_type": "code",
   "execution_count": 35,
   "id": "bcc92369-206d-4bfe-b289-0c5080a52350",
   "metadata": {},
   "outputs": [
    {
     "name": "stdout",
     "output_type": "stream",
     "text": [
      "4\n"
     ]
    }
   ],
   "source": [
    "# Write inner loop as a function. Just aesthetic change. No change in complexity\n",
    "def calculate_hours_taken(piles, speed):\n",
    "    hours_taken = 0\n",
    "    for p in piles:\n",
    "        hours_taken += math.ceil(p/speed)\n",
    "    return hours_taken\n",
    "\n",
    "for k in range(1, 12):\n",
    "    hours_taken = calculate_hours_taken(piles, k)\n",
    "    if hours_taken <= h:\n",
    "        print(k)\n",
    "        break"
   ]
  },
  {
   "cell_type": "code",
   "execution_count": 57,
   "id": "b669bc75-e101-4e0c-b16d-a472b760de3e",
   "metadata": {},
   "outputs": [
    {
     "name": "stdout",
     "output_type": "stream",
     "text": [
      "1 27\n",
      "2 15\n",
      "3 10\n",
      "4 8\n",
      "5 8\n",
      "6 6\n",
      "7 5\n",
      "8 5\n",
      "9 5\n",
      "10 5\n",
      "11 4\n"
     ]
    }
   ],
   "source": [
    "for k in range(1, 12):\n",
    "    hours_taken = calculate_hours_taken(piles, k)\n",
    "    print(k, hours_taken)"
   ]
  },
  {
   "cell_type": "markdown",
   "id": "d81fed5c-803d-4ebe-a30c-eb058fecda56",
   "metadata": {},
   "source": [
    "#### Optimal Solution"
   ]
  },
  {
   "cell_type": "code",
   "execution_count": null,
   "id": "214251e7-cab1-409e-b211-5ecf926078ba",
   "metadata": {},
   "outputs": [],
   "source": [
    "# change the outer loop into binary search\n",
    "# Time O(log(max(pile[i])) * len(piles)), One Binary Search, One loop"
   ]
  },
  {
   "cell_type": "code",
   "execution_count": 64,
   "id": "29ac3fa8-965d-4a6e-9bb6-857c5f6d4592",
   "metadata": {},
   "outputs": [
    {
     "name": "stdout",
     "output_type": "stream",
     "text": [
      "4\n"
     ]
    }
   ],
   "source": [
    "# Incorrect\n",
    "# l, r = 1, max(piles)\n",
    "# while l<=r:\n",
    "#     m = (l+r)//2\n",
    "#     hours_taken = calculate_hours_taken(piles, m)\n",
    "#     if hours_taken < h:\n",
    "#         r = m-1\n",
    "#     elif hours_taken > h:\n",
    "#         l = m+1\n",
    "#     else:\n",
    "#         print(m)\n",
    "#         break"
   ]
  },
  {
   "cell_type": "code",
   "execution_count": 94,
   "id": "37335134-d750-47b1-a0a2-911e0e3d0f08",
   "metadata": {},
   "outputs": [],
   "source": [
    "# piles = [312884470]\n",
    "# h = 312884469\n",
    "\n",
    "piles = [3,6,7,11]\n",
    "h = 8"
   ]
  },
  {
   "cell_type": "code",
   "execution_count": 95,
   "id": "2c45f6b3-3999-4647-877d-518bbca50389",
   "metadata": {},
   "outputs": [
    {
     "name": "stdout",
     "output_type": "stream",
     "text": [
      "4 4 3\n"
     ]
    }
   ],
   "source": [
    "l, r = 1, max(piles)\n",
    "while l<=r:\n",
    "    m = (l+r)//2\n",
    "    # print(m)\n",
    "    hours_taken = calculate_hours_taken(piles, m)\n",
    "    if hours_taken <= h:\n",
    "        r = m-1\n",
    "    elif hours_taken > h:\n",
    "        l = m+1\n",
    "print(l, m, r)"
   ]
  },
  {
   "cell_type": "code",
   "execution_count": null,
   "id": "234ff034-2985-4b8a-aa5e-c34f7ab9130c",
   "metadata": {},
   "outputs": [],
   "source": [
    "class Solution:\n",
    "    def calculate_hours_taken(self, piles, speed):\n",
    "        hours_taken = 0\n",
    "        for p in piles:\n",
    "            hours_taken += math.ceil(p/speed)\n",
    "        return hours_taken\n",
    "\n",
    "    def minEatingSpeed(self, piles: List[int], h: int) -> int:\n",
    "        l, r = 1, max(piles)\n",
    "        while l <= r:\n",
    "            m = (l + r) // 2\n",
    "            hours_taken = self.calculate_hours_taken(piles, m)\n",
    "            if hours_taken <= h:  # Adjusted condition\n",
    "                r = m - 1\n",
    "            else:\n",
    "                l = m + 1\n",
    "        return l  # Return the minimum eating speed found"
   ]
  },
  {
   "cell_type": "markdown",
   "id": "17831f4e-e3ab-4d16-8740-68267bbdc147",
   "metadata": {
    "tags": []
   },
   "source": [
    "# 153. Find Minimum in Rotated Sorted Array"
   ]
  },
  {
   "cell_type": "markdown",
   "id": "a01400bf-cbc2-4e2e-8fc8-6115c468b235",
   "metadata": {},
   "source": [
    "https://leetcode.com/problems/find-minimum-in-rotated-sorted-array/description/"
   ]
  },
  {
   "cell_type": "code",
   "execution_count": 99,
   "id": "c216a607-8a77-42a3-9e04-f9c700697dbd",
   "metadata": {},
   "outputs": [],
   "source": [
    "# Time, O(logn)"
   ]
  },
  {
   "cell_type": "code",
   "execution_count": 100,
   "id": "42bb0771-aad1-4708-aea4-1c2b9bcf97c8",
   "metadata": {},
   "outputs": [],
   "source": [
    "nums = [3,4,5,1,2]\n",
    "# [3, 4, 5] is the left sorted array\n",
    "# [1, 2] is the right sorted array"
   ]
  },
  {
   "cell_type": "code",
   "execution_count": 101,
   "id": "00911eef-324e-4378-ae9f-dd2e9d012e07",
   "metadata": {},
   "outputs": [],
   "source": [
    "def findMin(nums):\n",
    "    l, r = 0, len(nums) -1\n",
    "    res = nums[0] # set the result to be the left most value of the array\n",
    "    \n",
    "    while l <= r:\n",
    "        if nums[l] < nums[r]: # if the array is already sorted\n",
    "            res = min(res, nums[l])\n",
    "            break\n",
    "        \n",
    "        m = (l+r)//2\n",
    "        res = min(res, nums[m])\n",
    "        \n",
    "        if nums[m] >= nums[l]:  # if the mid part (nums[m]) is greater or equal to nums[l], that means 'm' is at the left sorted array \n",
    "            l = m + 1 # if m is at the left sorted array, then solution will be towards the right, hence move left pointer to the right\n",
    "        else:\n",
    "            r = m - 1\n",
    "        \n",
    "    return res    "
   ]
  },
  {
   "cell_type": "markdown",
   "id": "dd680600-9af1-4840-a5b7-bf238034ffd8",
   "metadata": {
    "tags": []
   },
   "source": [
    "# 33. Search in Rotated Sorted Array"
   ]
  },
  {
   "cell_type": "markdown",
   "id": "ec4b6c69-e4f5-415e-b70e-6e4f8f230779",
   "metadata": {},
   "source": [
    "https://leetcode.com/problems/search-in-rotated-sorted-array/description/"
   ]
  },
  {
   "cell_type": "code",
   "execution_count": 131,
   "id": "4b187600-ae95-4dcb-ac6f-4728a3ad9ee5",
   "metadata": {},
   "outputs": [],
   "source": [
    "nums = [4,5,6,7,0,1,2]\n",
    "# [4,5,6,7] is the left sorted array\n",
    "# [0,1,2] is the right sorted array\n",
    "target = 0\n",
    "# nums = [5,6,7,8,0,1,2,3,4]\n",
    "# target = 3\n",
    "\n",
    "\n",
    "nums = [1,3]\n",
    "target =3"
   ]
  },
  {
   "cell_type": "code",
   "execution_count": 135,
   "id": "3091016b-c50f-412e-ba98-79edc69f4bda",
   "metadata": {},
   "outputs": [],
   "source": [
    "def search(nums, target) -> int:\n",
    "    l, r = 0, len(nums) - 1\n",
    "\n",
    "    while l <= r:\n",
    "        mid = (l + r) // 2\n",
    "        if target == nums[mid]:\n",
    "            return mid\n",
    "\n",
    "        # left sorted portion\n",
    "        if nums[l] <= nums[mid]:\n",
    "            if target > nums[mid] or target < nums[l]:\n",
    "                l = mid + 1\n",
    "            else:\n",
    "                r = mid - 1\n",
    "        # right sorted portion\n",
    "        else:\n",
    "            if target < nums[mid] or target > nums[r]:\n",
    "                r = mid - 1\n",
    "            else:\n",
    "                l = mid + 1\n",
    "    return -1"
   ]
  },
  {
   "cell_type": "markdown",
   "id": "92f8d1d0-aa3b-4fa5-8496-62bfece14f2d",
   "metadata": {
    "tags": []
   },
   "source": [
    "# 981. Time Based Key-Value Store"
   ]
  },
  {
   "cell_type": "markdown",
   "id": "a7fcbe6b-051b-446c-bb36-2a846fe91591",
   "metadata": {},
   "source": [
    "https://leetcode.com/problems/time-based-key-value-store/description/"
   ]
  },
  {
   "cell_type": "code",
   "execution_count": null,
   "id": "b8c39246-17ee-4a56-9dd9-10eed92c0b75",
   "metadata": {},
   "outputs": [],
   "source": [
    "# nested loop solution\n",
    "# read to understand some concepts of python dicts\n",
    "# does not work well for .get operations when the timestamp is not availaible"
   ]
  },
  {
   "cell_type": "code",
   "execution_count": 223,
   "id": "1eaedc64-7258-477b-905f-d6186744ebc3",
   "metadata": {},
   "outputs": [],
   "source": [
    "class TimeMap:\n",
    "\n",
    "    def __init__(self):\n",
    "        self.out = {}\n",
    "\n",
    "    def set(self, key: str, value: str, timestamp: int) -> None:\n",
    "        self.out[key] = self.out.get(key, {})\n",
    "        self.out[key][timestamp] = value\n",
    "\n",
    "    def get(self, key: str, timestamp: int) -> str:\n",
    "        return self.out[key][timestamp]"
   ]
  },
  {
   "cell_type": "code",
   "execution_count": 224,
   "id": "be0caf84-e229-44cc-bcad-9bd3de85a007",
   "metadata": {},
   "outputs": [],
   "source": [
    "t = TimeMap()\n",
    "for i in range(5):\n",
    "    t.set(\"foo\", f\"bar_{i}\", i)\n",
    "\n",
    "for i in range(5):\n",
    "    t.set(\"foo2\", f\"bar_{i}\", i)"
   ]
  },
  {
   "cell_type": "code",
   "execution_count": 225,
   "id": "62d9f356-bc54-4887-88da-1980aaf59623",
   "metadata": {},
   "outputs": [
    {
     "data": {
      "text/plain": [
       "{'foo': {0: 'bar_0', 1: 'bar_1', 2: 'bar_2', 3: 'bar_3', 4: 'bar_4'},\n",
       " 'foo2': {0: 'bar_0', 1: 'bar_1', 2: 'bar_2', 3: 'bar_3', 4: 'bar_4'}}"
      ]
     },
     "execution_count": 225,
     "metadata": {},
     "output_type": "execute_result"
    }
   ],
   "source": [
    "t.out"
   ]
  },
  {
   "cell_type": "code",
   "execution_count": 229,
   "id": "f865b85a-1854-4704-a3f1-f3726f536eee",
   "metadata": {
    "tags": []
   },
   "outputs": [
    {
     "data": {
      "text/plain": [
       "'bar_3'"
      ]
     },
     "execution_count": 229,
     "metadata": {},
     "output_type": "execute_result"
    }
   ],
   "source": [
    "t.get(\"foo\", 3)"
   ]
  },
  {
   "cell_type": "markdown",
   "id": "db785c5b-5ed1-4773-a610-8ef731d2885e",
   "metadata": {},
   "source": [
    "#### Optimal Solution"
   ]
  },
  {
   "cell_type": "code",
   "execution_count": 294,
   "id": "f3484d07-740b-4493-8cef-e9512ad5b18f",
   "metadata": {},
   "outputs": [],
   "source": [
    "class TimeMap:\n",
    "    def __init__(self):\n",
    "        \"\"\"\n",
    "        Initialize your data structure here.\n",
    "        \"\"\"\n",
    "        self.keyStore = {}  # key : list of [val, timestamp]\n",
    "\n",
    "    def set(self, key: str, value: str, timestamp: int) -> None:\n",
    "        if key not in self.keyStore:\n",
    "            self.keyStore[key] = []\n",
    "        self.keyStore[key].append([value, timestamp])\n",
    "        \n",
    "    def get(self, key: str, timestamp: int) -> str:\n",
    "        if key not in self.keyStore:\n",
    "            return \"\"\n",
    "        nums = self.keyStore[key] \n",
    "        target = timestamp\n",
    "        l, r = 0, len(nums) - 1\n",
    "        while l<=r:\n",
    "            m = (l+r)//2\n",
    "            if nums[m][1] > target:\n",
    "                r = m - 1\n",
    "            elif nums[m][1] < target:\n",
    "                l = m + 1\n",
    "            elif nums[m][1] == target:\n",
    "                return nums[m][0]\n",
    "        \n",
    "        print(l, m, r, target)\n",
    "        if nums[r][1] < target:\n",
    "            return nums[r][0]\n",
    "        else:\n",
    "            return \"\""
   ]
  },
  {
   "cell_type": "code",
   "execution_count": 267,
   "id": "a311c6f4-b3e7-4216-a016-a0faa56b3430",
   "metadata": {},
   "outputs": [],
   "source": [
    "t = TimeMap()\n",
    "for i in range(4):\n",
    "    t.set(\"foo\", f\"bar_{i}\", i)\n",
    "\n",
    "for i in range(4):\n",
    "    t.set(\"foo2\", f\"bar_{i}\", i)"
   ]
  },
  {
   "cell_type": "code",
   "execution_count": 268,
   "id": "630c9648-cc68-43aa-8713-f5d7715f614f",
   "metadata": {},
   "outputs": [
    {
     "data": {
      "text/plain": [
       "{'foo': [['bar_0', 0], ['bar_1', 1], ['bar_2', 2], ['bar_3', 3]],\n",
       " 'foo2': [['bar_0', 0], ['bar_1', 1], ['bar_2', 2], ['bar_3', 3]]}"
      ]
     },
     "execution_count": 268,
     "metadata": {},
     "output_type": "execute_result"
    }
   ],
   "source": [
    "t.keyStore"
   ]
  },
  {
   "cell_type": "code",
   "execution_count": 272,
   "id": "83db6517-035a-4c8f-8b5f-f8d9cf881d44",
   "metadata": {},
   "outputs": [
    {
     "name": "stdout",
     "output_type": "stream",
     "text": [
      "bar_1\n",
      "bar_3\n",
      "bar_3\n",
      "bar_3\n"
     ]
    }
   ],
   "source": [
    "print(t.get(\"foo\", 1))\n",
    "print(t.get(\"foo\", 3))\n",
    "print(t.get(\"foo\", 4))\n",
    "print(t.get(\"foo\", 5))"
   ]
  },
  {
   "cell_type": "code",
   "execution_count": 295,
   "id": "360b1f98-45ce-4e67-801c-076a15c0464b",
   "metadata": {},
   "outputs": [],
   "source": [
    "t = TimeMap()\n",
    "t.set(\"love\", \"high\", 10)\n",
    "t.set(\"love\", \"low\", 20)"
   ]
  },
  {
   "cell_type": "code",
   "execution_count": 296,
   "id": "b5f77b32-32ca-4566-97ba-33fe307c5835",
   "metadata": {},
   "outputs": [
    {
     "name": "stdout",
     "output_type": "stream",
     "text": [
      "0 0 -1 5\n"
     ]
    },
    {
     "data": {
      "text/plain": [
       "''"
      ]
     },
     "execution_count": 296,
     "metadata": {},
     "output_type": "execute_result"
    }
   ],
   "source": [
    "t.get('love', 5)"
   ]
  },
  {
   "cell_type": "markdown",
   "id": "646dc952-9f31-4db4-a549-aef78b6165b0",
   "metadata": {},
   "source": [
    "# 4. Median of Two Sorted Arrays"
   ]
  },
  {
   "cell_type": "markdown",
   "id": "92f98759-730f-42db-ba24-db2fd6ce7062",
   "metadata": {},
   "source": [
    "https://leetcode.com/problems/median-of-two-sorted-arrays/description/"
   ]
  },
  {
   "cell_type": "code",
   "execution_count": 297,
   "id": "4fae8910-d765-439a-aea2-a005e2cf326d",
   "metadata": {},
   "outputs": [],
   "source": [
    "nums1 = [1,2]\n",
    "nums2 = [3,4]\n",
    "\n",
    "# Output: 2.50000\n",
    "# Explanation: merged array = [1,2,3,4] and median is (2 + 3) / 2 = 2.5."
   ]
  },
  {
   "cell_type": "code",
   "execution_count": null,
   "id": "cf522c36-3338-418a-820c-69c4e6ff01e3",
   "metadata": {},
   "outputs": [],
   "source": []
  },
  {
   "cell_type": "code",
   "execution_count": null,
   "id": "0d6039fa-7202-4bb5-8f8d-d343f92211e9",
   "metadata": {},
   "outputs": [],
   "source": []
  },
  {
   "cell_type": "code",
   "execution_count": null,
   "id": "a5be0f51-cd52-45f9-a0ee-13e49be9b4c4",
   "metadata": {},
   "outputs": [],
   "source": []
  },
  {
   "cell_type": "code",
   "execution_count": null,
   "id": "a5e0cc94-cdbf-4d9a-b0f3-1c5264b9000d",
   "metadata": {},
   "outputs": [],
   "source": []
  },
  {
   "cell_type": "code",
   "execution_count": null,
   "id": "18d2c48f-ffdb-47d9-9fb9-81ee6a71ea71",
   "metadata": {},
   "outputs": [],
   "source": []
  }
 ],
 "metadata": {
  "kernelspec": {
   "display_name": "Python 3 (ipykernel)",
   "language": "python",
   "name": "python3"
  },
  "language_info": {
   "codemirror_mode": {
    "name": "ipython",
    "version": 3
   },
   "file_extension": ".py",
   "mimetype": "text/x-python",
   "name": "python",
   "nbconvert_exporter": "python",
   "pygments_lexer": "ipython3",
   "version": "3.10.9"
  }
 },
 "nbformat": 4,
 "nbformat_minor": 5
}
